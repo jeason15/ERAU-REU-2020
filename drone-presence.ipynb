{
 "metadata": {
  "language_info": {
   "codemirror_mode": {
    "name": "ipython",
    "version": 3
   },
   "file_extension": ".py",
   "mimetype": "text/x-python",
   "name": "python",
   "nbconvert_exporter": "python",
   "pygments_lexer": "ipython3",
   "version": "3.7.7-final"
  },
  "orig_nbformat": 2,
  "kernelspec": {
   "name": "python_defaultSpec_1596733920798",
   "display_name": "Python 3.7.7 64-bit ('tfgpu': conda)"
  }
 },
 "nbformat": 4,
 "nbformat_minor": 2,
 "cells": [
  {
   "cell_type": "code",
   "execution_count": 63,
   "metadata": {
    "tags": []
   },
   "outputs": [
    {
     "output_type": "stream",
     "name": "stdout",
     "text": "2.1.0\nDefault GPU Device: /device:GPU:0\n"
    }
   ],
   "source": [
    "import pandas as pd\n",
    "from dfply import *\n",
    "import numpy as np\n",
    "import matplotlib.pyplot as plt\n",
    "import tensorflow as tf\n",
    "from sklearn import metrics\n",
    "import tensorflow.keras as keras\n",
    "from tensorflow.keras.utils import to_categorical\n",
    "from tensorflow.keras.layers import Conv2D,Dense,Flatten,SimpleRNN,LSTM,Dropout\n",
    "from sklearn.preprocessing import LabelEncoder,OneHotEncoder\n",
    "from sklearn.model_selection import train_test_split\n",
    "from sklearn import decomposition\n",
    "from sklearn.decomposition import PCA\n",
    "from sklearn import preprocessing\n",
    "from tensorflow.keras.optimizers import SGD\n",
    "from sklearn import svm\n",
    "from sklearn import neighbors\n",
    "from sklearn.svm import SVC\n",
    "from sklearn.ensemble import RandomForestClassifier\n",
    "from sklearn.naive_bayes import GaussianNB\n",
    "from sklearn.ensemble import GradientBoostingClassifier \n",
    "import random\n",
    "\n",
    "random.seed(1023)\n",
    "\n",
    "print(tf.__version__)\n",
    "\n",
    "if tf.test.gpu_device_name():\n",
    "   print('Default GPU Device: {}'.format(tf.test.gpu_device_name()))\n",
    "else:\n",
    "   print(\"Please install GPU version of TF\")\n",
    "  "
   ]
  },
  {
   "cell_type": "code",
   "execution_count": 64,
   "metadata": {},
   "outputs": [],
   "source": [
    "df = pd.read_csv(\"E:\\\\ProjectData\\\\ERAU-REU\\\\Project-Drone-Behavior\\\\behavior-captures\\\\processed-no-scaling.csv\")\n",
    "df.shape\n",
    "np.random.shuffle(df.values)\n",
    "\n",
    "df >>= mutate(drone_present = case_when([df.behavior == 'surround','yes'],\n",
    "[df.behavior == 'straight','yes'],\n",
    "[df.behavior == 'noise','no']))\n",
    "presence_labs = df['drone_present']"
   ]
  },
  {
   "cell_type": "code",
   "execution_count": 65,
   "metadata": {
    "tags": []
   },
   "outputs": [],
   "source": [
    "x = df.drop(['timestamp','behavior','signal','multiple','drone_present'],axis=1).values\n",
    "scaler = preprocessing.StandardScaler()\n",
    "x_scaled = scaler.fit_transform(x)\n",
    "#time = np.reshape(df['timestamp'].values, (3300, 1))\n",
    "#x_scaled = np.hstack((x_scaled, time))\n"
   ]
  },
  {
   "cell_type": "code",
   "execution_count": 66,
   "metadata": {
    "tags": []
   },
   "outputs": [],
   "source": [
    "values = np.array(presence_labs)\n",
    "label_encoder = LabelEncoder()\n",
    "integer_encoded = label_encoder.fit_transform(values)\n",
    "\n",
    "onehot_encoder = OneHotEncoder(sparse=False)\n",
    "integer_encoded = integer_encoded.reshape(len(integer_encoded), 1)\n",
    "y = onehot_encoder.fit_transform(integer_encoded)\n",
    "\n",
    "y.shape\n",
    "\n",
    "x_train, x_test, y_train, y_test = train_test_split(x_scaled, y, test_size=0.2)\n",
    " \n",
    "model_simple = keras.Sequential(name='Simple_Fully_Connected')\n",
    "model_simple.add(Dense(128, activation='relu', input_shape=(1280,)))\n",
    "model_simple.add(Dense(64, activation='relu'))\n",
    "model_simple.add(Dense(32, activation='relu'))\n",
    "model_simple.add(Dense(2, activation='sigmoid'))\n"
   ]
  },
  {
   "cell_type": "code",
   "execution_count": 67,
   "metadata": {},
   "outputs": [],
   "source": [
    "# accy = []\n",
    "# loss = []\n",
    "# learn = []\n",
    "# for i in np.arange(0.001,0.02,0.001):\n",
    "#     opt = SGD(lr = i)\n",
    "#     model_large.compile(optimizer=opt, loss='binary_crossentropy', metrics=['accuracy'])\n",
    "#     model_large.build(input_shape=(1281,))\n",
    "#     #model_large.summary()\n",
    "\n",
    "#     fit_all = model_large.fit(x = x_train,\n",
    "#             y = y_train, \n",
    "#             epochs = 100,\n",
    "#             batch_size = 64,\n",
    "#             validation_split = .2,\n",
    "#             verbose=False)\n",
    "    \n",
    "#     scores = model_large.evaluate(x_test,y_test, verbose=0)\n",
    "#     accy.append(scores[1])\n",
    "#     loss.append(scores[0])\n",
    "#     learn.append(i)\n"
   ]
  },
  {
   "cell_type": "code",
   "execution_count": 68,
   "metadata": {
    "tags": []
   },
   "outputs": [
    {
     "output_type": "stream",
     "name": "stdout",
     "text": "Model: \"Simple_Fully_Connected\"\n_________________________________________________________________\nLayer (type)                 Output Shape              Param #   \n=================================================================\ndense_16 (Dense)             (None, 128)               163968    \n_________________________________________________________________\ndense_17 (Dense)             (None, 64)                8256      \n_________________________________________________________________\ndense_18 (Dense)             (None, 32)                2080      \n_________________________________________________________________\ndense_19 (Dense)             (None, 2)                 66        \n=================================================================\nTotal params: 174,370\nTrainable params: 174,370\nNon-trainable params: 0\n_________________________________________________________________\nTrain on 2112 samples, validate on 528 samples\nEpoch 1/100\n2112/2112 [==============================] - 1s 518us/sample - loss: 0.6331 - accuracy: 0.6880 - val_loss: 0.6053 - val_accuracy: 0.6790\nEpoch 2/100\n2112/2112 [==============================] - 0s 121us/sample - loss: 0.5845 - accuracy: 0.7171 - val_loss: 0.5746 - val_accuracy: 0.7083\nEpoch 3/100\n2112/2112 [==============================] - 0s 85us/sample - loss: 0.5555 - accuracy: 0.7415 - val_loss: 0.5517 - val_accuracy: 0.7358\nEpoch 4/100\n2112/2112 [==============================] - 0s 84us/sample - loss: 0.5324 - accuracy: 0.7725 - val_loss: 0.5325 - val_accuracy: 0.7670\nEpoch 5/100\n2112/2112 [==============================] - 0s 104us/sample - loss: 0.5127 - accuracy: 0.7943 - val_loss: 0.5158 - val_accuracy: 0.7812\nEpoch 6/100\n2112/2112 [==============================] - 0s 106us/sample - loss: 0.4951 - accuracy: 0.8149 - val_loss: 0.5009 - val_accuracy: 0.7936\nEpoch 7/100\n2112/2112 [==============================] - 0s 101us/sample - loss: 0.4795 - accuracy: 0.8286 - val_loss: 0.4873 - val_accuracy: 0.8153\nEpoch 8/100\n2112/2112 [==============================] - 0s 96us/sample - loss: 0.4651 - accuracy: 0.8390 - val_loss: 0.4747 - val_accuracy: 0.8239\nEpoch 9/100\n2112/2112 [==============================] - 0s 132us/sample - loss: 0.4519 - accuracy: 0.8490 - val_loss: 0.4630 - val_accuracy: 0.8295\nEpoch 10/100\n2112/2112 [==============================] - 0s 169us/sample - loss: 0.4396 - accuracy: 0.8542 - val_loss: 0.4523 - val_accuracy: 0.8362\nEpoch 11/100\n2112/2112 [==============================] - 0s 106us/sample - loss: 0.4284 - accuracy: 0.8617 - val_loss: 0.4427 - val_accuracy: 0.8409\nEpoch 12/100\n2112/2112 [==============================] - 0s 116us/sample - loss: 0.4179 - accuracy: 0.8686 - val_loss: 0.4339 - val_accuracy: 0.8428\nEpoch 13/100\n2112/2112 [==============================] - 0s 96us/sample - loss: 0.4084 - accuracy: 0.8703 - val_loss: 0.4258 - val_accuracy: 0.8475\nEpoch 14/100\n2112/2112 [==============================] - 0s 100us/sample - loss: 0.3996 - accuracy: 0.8726 - val_loss: 0.4185 - val_accuracy: 0.8494\nEpoch 15/100\n2112/2112 [==============================] - 0s 106us/sample - loss: 0.3916 - accuracy: 0.8748 - val_loss: 0.4120 - val_accuracy: 0.8513\nEpoch 16/100\n2112/2112 [==============================] - 0s 116us/sample - loss: 0.3843 - accuracy: 0.8762 - val_loss: 0.4065 - val_accuracy: 0.8523\nEpoch 17/100\n2112/2112 [==============================] - 0s 123us/sample - loss: 0.3779 - accuracy: 0.8762 - val_loss: 0.4015 - val_accuracy: 0.8532\nEpoch 18/100\n2112/2112 [==============================] - 0s 113us/sample - loss: 0.3721 - accuracy: 0.8769 - val_loss: 0.3973 - val_accuracy: 0.8532\nEpoch 19/100\n2112/2112 [==============================] - 0s 105us/sample - loss: 0.3667 - accuracy: 0.8774 - val_loss: 0.3934 - val_accuracy: 0.8570\nEpoch 20/100\n2112/2112 [==============================] - 0s 97us/sample - loss: 0.3618 - accuracy: 0.8783 - val_loss: 0.3899 - val_accuracy: 0.8570\nEpoch 21/100\n2112/2112 [==============================] - 0s 109us/sample - loss: 0.3574 - accuracy: 0.8786 - val_loss: 0.3869 - val_accuracy: 0.8589\nEpoch 22/100\n2112/2112 [==============================] - 0s 109us/sample - loss: 0.3533 - accuracy: 0.8793 - val_loss: 0.3841 - val_accuracy: 0.8598\nEpoch 23/100\n2112/2112 [==============================] - 0s 98us/sample - loss: 0.3498 - accuracy: 0.8797 - val_loss: 0.3817 - val_accuracy: 0.8598\nEpoch 24/100\n2112/2112 [==============================] - 0s 91us/sample - loss: 0.3464 - accuracy: 0.8795 - val_loss: 0.3795 - val_accuracy: 0.8608\nEpoch 25/100\n2112/2112 [==============================] - 0s 76us/sample - loss: 0.3432 - accuracy: 0.8802 - val_loss: 0.3776 - val_accuracy: 0.8608\nEpoch 26/100\n2112/2112 [==============================] - 0s 94us/sample - loss: 0.3401 - accuracy: 0.8802 - val_loss: 0.3761 - val_accuracy: 0.8608\nEpoch 27/100\n2112/2112 [==============================] - 0s 88us/sample - loss: 0.3374 - accuracy: 0.8809 - val_loss: 0.3745 - val_accuracy: 0.8608\nEpoch 28/100\n2112/2112 [==============================] - 0s 130us/sample - loss: 0.3348 - accuracy: 0.8814 - val_loss: 0.3729 - val_accuracy: 0.8617\nEpoch 29/100\n2112/2112 [==============================] - 0s 106us/sample - loss: 0.3323 - accuracy: 0.8809 - val_loss: 0.3714 - val_accuracy: 0.8617\nEpoch 30/100\n2112/2112 [==============================] - 0s 92us/sample - loss: 0.3297 - accuracy: 0.8819 - val_loss: 0.3699 - val_accuracy: 0.8617\nEpoch 31/100\n2112/2112 [==============================] - 0s 97us/sample - loss: 0.3273 - accuracy: 0.8821 - val_loss: 0.3687 - val_accuracy: 0.8627\nEpoch 32/100\n2112/2112 [==============================] - 0s 97us/sample - loss: 0.3251 - accuracy: 0.8819 - val_loss: 0.3675 - val_accuracy: 0.8627\nEpoch 33/100\n2112/2112 [==============================] - 0s 101us/sample - loss: 0.3229 - accuracy: 0.8826 - val_loss: 0.3663 - val_accuracy: 0.8627\nEpoch 34/100\n2112/2112 [==============================] - 0s 106us/sample - loss: 0.3208 - accuracy: 0.8826 - val_loss: 0.3654 - val_accuracy: 0.8627\nEpoch 35/100\n2112/2112 [==============================] - 0s 95us/sample - loss: 0.3186 - accuracy: 0.8828 - val_loss: 0.3644 - val_accuracy: 0.8627\nEpoch 36/100\n2112/2112 [==============================] - 0s 99us/sample - loss: 0.3166 - accuracy: 0.8830 - val_loss: 0.3634 - val_accuracy: 0.8627\nEpoch 37/100\n2112/2112 [==============================] - 0s 107us/sample - loss: 0.3146 - accuracy: 0.8838 - val_loss: 0.3625 - val_accuracy: 0.8627\nEpoch 38/100\n2112/2112 [==============================] - 0s 105us/sample - loss: 0.3126 - accuracy: 0.8838 - val_loss: 0.3620 - val_accuracy: 0.8608\nEpoch 39/100\n2112/2112 [==============================] - 0s 113us/sample - loss: 0.3107 - accuracy: 0.8842 - val_loss: 0.3612 - val_accuracy: 0.8627\nEpoch 40/100\n2112/2112 [==============================] - 0s 132us/sample - loss: 0.3090 - accuracy: 0.8847 - val_loss: 0.3605 - val_accuracy: 0.8608\nEpoch 41/100\n2112/2112 [==============================] - 0s 121us/sample - loss: 0.3072 - accuracy: 0.8847 - val_loss: 0.3595 - val_accuracy: 0.8608\nEpoch 42/100\n2112/2112 [==============================] - 0s 120us/sample - loss: 0.3055 - accuracy: 0.8847 - val_loss: 0.3588 - val_accuracy: 0.8627\nEpoch 43/100\n2112/2112 [==============================] - 0s 124us/sample - loss: 0.3037 - accuracy: 0.8847 - val_loss: 0.3580 - val_accuracy: 0.8608\nEpoch 44/100\n2112/2112 [==============================] - 0s 119us/sample - loss: 0.3018 - accuracy: 0.8847 - val_loss: 0.3572 - val_accuracy: 0.8617\nEpoch 45/100\n2112/2112 [==============================] - 0s 119us/sample - loss: 0.3001 - accuracy: 0.8854 - val_loss: 0.3567 - val_accuracy: 0.8617\nEpoch 46/100\n2112/2112 [==============================] - 0s 120us/sample - loss: 0.2984 - accuracy: 0.8852 - val_loss: 0.3563 - val_accuracy: 0.8627\nEpoch 47/100\n2112/2112 [==============================] - 0s 117us/sample - loss: 0.2967 - accuracy: 0.8857 - val_loss: 0.3555 - val_accuracy: 0.8617\nEpoch 48/100\n2112/2112 [==============================] - 0s 114us/sample - loss: 0.2950 - accuracy: 0.8854 - val_loss: 0.3551 - val_accuracy: 0.8627\nEpoch 49/100\n2112/2112 [==============================] - 0s 127us/sample - loss: 0.2933 - accuracy: 0.8866 - val_loss: 0.3544 - val_accuracy: 0.8627\nEpoch 50/100\n2112/2112 [==============================] - 0s 120us/sample - loss: 0.2917 - accuracy: 0.8859 - val_loss: 0.3537 - val_accuracy: 0.8627\nEpoch 51/100\n2112/2112 [==============================] - 0s 122us/sample - loss: 0.2901 - accuracy: 0.8864 - val_loss: 0.3534 - val_accuracy: 0.8646\nEpoch 52/100\n2112/2112 [==============================] - 0s 138us/sample - loss: 0.2885 - accuracy: 0.8868 - val_loss: 0.3527 - val_accuracy: 0.8636\nEpoch 53/100\n2112/2112 [==============================] - 0s 117us/sample - loss: 0.2868 - accuracy: 0.8859 - val_loss: 0.3522 - val_accuracy: 0.8636\nEpoch 54/100\n2112/2112 [==============================] - 0s 119us/sample - loss: 0.2851 - accuracy: 0.8878 - val_loss: 0.3515 - val_accuracy: 0.8617\nEpoch 55/100\n2112/2112 [==============================] - 0s 119us/sample - loss: 0.2836 - accuracy: 0.8878 - val_loss: 0.3510 - val_accuracy: 0.8617\nEpoch 56/100\n2112/2112 [==============================] - 0s 115us/sample - loss: 0.2820 - accuracy: 0.8878 - val_loss: 0.3507 - val_accuracy: 0.8627\nEpoch 57/100\n2112/2112 [==============================] - 0s 119us/sample - loss: 0.2804 - accuracy: 0.8885 - val_loss: 0.3500 - val_accuracy: 0.8636\nEpoch 58/100\n2112/2112 [==============================] - 0s 123us/sample - loss: 0.2789 - accuracy: 0.8890 - val_loss: 0.3496 - val_accuracy: 0.8636\nEpoch 59/100\n2112/2112 [==============================] - 0s 120us/sample - loss: 0.2772 - accuracy: 0.8894 - val_loss: 0.3491 - val_accuracy: 0.8627\nEpoch 60/100\n2112/2112 [==============================] - 0s 117us/sample - loss: 0.2757 - accuracy: 0.8892 - val_loss: 0.3486 - val_accuracy: 0.8627\nEpoch 61/100\n2112/2112 [==============================] - 0s 121us/sample - loss: 0.2741 - accuracy: 0.8892 - val_loss: 0.3480 - val_accuracy: 0.8636\nEpoch 62/100\n2112/2112 [==============================] - 0s 125us/sample - loss: 0.2724 - accuracy: 0.8892 - val_loss: 0.3475 - val_accuracy: 0.8636\nEpoch 63/100\n2112/2112 [==============================] - 0s 126us/sample - loss: 0.2710 - accuracy: 0.8899 - val_loss: 0.3472 - val_accuracy: 0.8627\nEpoch 64/100\n2112/2112 [==============================] - 0s 140us/sample - loss: 0.2693 - accuracy: 0.8902 - val_loss: 0.3468 - val_accuracy: 0.8636\nEpoch 65/100\n2112/2112 [==============================] - 0s 141us/sample - loss: 0.2677 - accuracy: 0.8902 - val_loss: 0.3465 - val_accuracy: 0.8627\nEpoch 66/100\n2112/2112 [==============================] - 0s 116us/sample - loss: 0.2662 - accuracy: 0.8902 - val_loss: 0.3460 - val_accuracy: 0.8655\nEpoch 67/100\n2112/2112 [==============================] - 0s 109us/sample - loss: 0.2646 - accuracy: 0.8904 - val_loss: 0.3457 - val_accuracy: 0.8646\nEpoch 68/100\n2112/2112 [==============================] - 0s 140us/sample - loss: 0.2629 - accuracy: 0.8906 - val_loss: 0.3453 - val_accuracy: 0.8646\nEpoch 69/100\n2112/2112 [==============================] - 0s 116us/sample - loss: 0.2613 - accuracy: 0.8904 - val_loss: 0.3447 - val_accuracy: 0.8646\nEpoch 70/100\n2112/2112 [==============================] - 0s 122us/sample - loss: 0.2596 - accuracy: 0.8909 - val_loss: 0.3444 - val_accuracy: 0.8655\nEpoch 71/100\n2112/2112 [==============================] - 0s 124us/sample - loss: 0.2580 - accuracy: 0.8923 - val_loss: 0.3443 - val_accuracy: 0.8636\nEpoch 72/100\n2112/2112 [==============================] - 0s 102us/sample - loss: 0.2564 - accuracy: 0.8916 - val_loss: 0.3437 - val_accuracy: 0.8646\nEpoch 73/100\n2112/2112 [==============================] - 0s 122us/sample - loss: 0.2548 - accuracy: 0.8913 - val_loss: 0.3434 - val_accuracy: 0.8646\nEpoch 74/100\n2112/2112 [==============================] - 0s 109us/sample - loss: 0.2531 - accuracy: 0.8913 - val_loss: 0.3430 - val_accuracy: 0.8655\nEpoch 75/100\n2112/2112 [==============================] - 0s 116us/sample - loss: 0.2514 - accuracy: 0.8916 - val_loss: 0.3427 - val_accuracy: 0.8646\nEpoch 76/100\n2112/2112 [==============================] - 0s 116us/sample - loss: 0.2497 - accuracy: 0.8928 - val_loss: 0.3424 - val_accuracy: 0.8646\nEpoch 77/100\n2112/2112 [==============================] - 0s 113us/sample - loss: 0.2480 - accuracy: 0.8930 - val_loss: 0.3419 - val_accuracy: 0.8646\nEpoch 78/100\n2112/2112 [==============================] - 0s 114us/sample - loss: 0.2463 - accuracy: 0.8928 - val_loss: 0.3418 - val_accuracy: 0.8646\nEpoch 79/100\n2112/2112 [==============================] - 0s 113us/sample - loss: 0.2446 - accuracy: 0.8930 - val_loss: 0.3418 - val_accuracy: 0.8636\nEpoch 80/100\n2112/2112 [==============================] - 0s 150us/sample - loss: 0.2429 - accuracy: 0.8937 - val_loss: 0.3416 - val_accuracy: 0.8646\nEpoch 81/100\n2112/2112 [==============================] - 0s 108us/sample - loss: 0.2412 - accuracy: 0.8935 - val_loss: 0.3410 - val_accuracy: 0.8646\nEpoch 82/100\n2112/2112 [==============================] - 0s 116us/sample - loss: 0.2395 - accuracy: 0.8937 - val_loss: 0.3410 - val_accuracy: 0.8646\nEpoch 83/100\n2112/2112 [==============================] - 0s 105us/sample - loss: 0.2377 - accuracy: 0.8942 - val_loss: 0.3407 - val_accuracy: 0.8655\nEpoch 84/100\n2112/2112 [==============================] - 0s 114us/sample - loss: 0.2360 - accuracy: 0.8942 - val_loss: 0.3403 - val_accuracy: 0.8646\nEpoch 85/100\n2112/2112 [==============================] - 0s 113us/sample - loss: 0.2343 - accuracy: 0.8944 - val_loss: 0.3400 - val_accuracy: 0.8646\nEpoch 86/100\n2112/2112 [==============================] - 0s 94us/sample - loss: 0.2324 - accuracy: 0.8949 - val_loss: 0.3403 - val_accuracy: 0.8646\nEpoch 87/100\n2112/2112 [==============================] - 0s 119us/sample - loss: 0.2307 - accuracy: 0.8949 - val_loss: 0.3406 - val_accuracy: 0.8636\nEpoch 88/100\n2112/2112 [==============================] - 0s 119us/sample - loss: 0.2290 - accuracy: 0.8949 - val_loss: 0.3402 - val_accuracy: 0.8636\nEpoch 89/100\n2112/2112 [==============================] - 0s 119us/sample - loss: 0.2272 - accuracy: 0.8954 - val_loss: 0.3392 - val_accuracy: 0.8646\nEpoch 90/100\n2112/2112 [==============================] - 0s 124us/sample - loss: 0.2255 - accuracy: 0.8956 - val_loss: 0.3397 - val_accuracy: 0.8646\nEpoch 91/100\n2112/2112 [==============================] - 0s 117us/sample - loss: 0.2237 - accuracy: 0.8961 - val_loss: 0.3401 - val_accuracy: 0.8636\nEpoch 92/100\n2112/2112 [==============================] - 0s 120us/sample - loss: 0.2219 - accuracy: 0.8970 - val_loss: 0.3394 - val_accuracy: 0.8646\nEpoch 93/100\n2112/2112 [==============================] - 0s 126us/sample - loss: 0.2201 - accuracy: 0.8980 - val_loss: 0.3396 - val_accuracy: 0.8646\nEpoch 94/100\n2112/2112 [==============================] - 0s 112us/sample - loss: 0.2184 - accuracy: 0.8977 - val_loss: 0.3399 - val_accuracy: 0.8636\nEpoch 95/100\n2112/2112 [==============================] - 0s 107us/sample - loss: 0.2165 - accuracy: 0.8987 - val_loss: 0.3397 - val_accuracy: 0.8636\nEpoch 96/100\n2112/2112 [==============================] - 0s 108us/sample - loss: 0.2147 - accuracy: 0.8994 - val_loss: 0.3397 - val_accuracy: 0.8636\nEpoch 97/100\n2112/2112 [==============================] - 0s 112us/sample - loss: 0.2127 - accuracy: 0.9001 - val_loss: 0.3398 - val_accuracy: 0.8646\nEpoch 98/100\n2112/2112 [==============================] - 0s 121us/sample - loss: 0.2109 - accuracy: 0.9003 - val_loss: 0.3407 - val_accuracy: 0.8627\nEpoch 99/100\n2112/2112 [==============================] - 0s 115us/sample - loss: 0.2091 - accuracy: 0.9001 - val_loss: 0.3411 - val_accuracy: 0.8627\nEpoch 100/100\n2112/2112 [==============================] - 0s 110us/sample - loss: 0.2073 - accuracy: 0.9003 - val_loss: 0.3394 - val_accuracy: 0.8636\n"
    }
   ],
   "source": [
    "# lr = learn[accy.index(max(accy))]\n",
    "# print(lr)\n",
    "# print(max(accy))\n",
    "\n",
    "opt = SGD(lr = .0045)\n",
    "model_simple.compile(optimizer=opt, loss='binary_crossentropy', metrics=['accuracy'])\n",
    "model_simple.build(input_shape=(1280,))\n",
    "model_simple.summary()\n",
    "\n",
    "fit_all = model_simple.fit(x = x_train,\n",
    "        y = y_train, \n",
    "        epochs = 100,\n",
    "        batch_size = 64,\n",
    "        validation_split = .2,\n",
    "        verbose=True)"
   ]
  },
  {
   "cell_type": "code",
   "execution_count": 69,
   "metadata": {
    "tags": []
   },
   "outputs": [
    {
     "output_type": "stream",
     "name": "stdout",
     "text": "Test Accuracy: 88.10606002807617 %\n"
    }
   ],
   "source": [
    "metrics = model_simple.evaluate(x_test,y_test, verbose=0)\n",
    "print('Test Accuracy: {} %'.format(metrics[1]*100))"
   ]
  },
  {
   "cell_type": "code",
   "execution_count": 70,
   "metadata": {},
   "outputs": [
    {
     "output_type": "display_data",
     "data": {
      "text/plain": "<Figure size 432x288 with 1 Axes>",
      "image/svg+xml": "<?xml version=\"1.0\" encoding=\"utf-8\" standalone=\"no\"?>\r\n<!DOCTYPE svg PUBLIC \"-//W3C//DTD SVG 1.1//EN\"\r\n  \"http://www.w3.org/Graphics/SVG/1.1/DTD/svg11.dtd\">\r\n<!-- Created with matplotlib (https://matplotlib.org/) -->\r\n<svg height=\"248.518125pt\" version=\"1.1\" viewBox=\"0 0 372.103125 248.518125\" width=\"372.103125pt\" xmlns=\"http://www.w3.org/2000/svg\" xmlns:xlink=\"http://www.w3.org/1999/xlink\">\r\n <defs>\r\n  <style type=\"text/css\">\r\n*{stroke-linecap:butt;stroke-linejoin:round;}\r\n  </style>\r\n </defs>\r\n <g id=\"figure_1\">\r\n  <g id=\"patch_1\">\r\n   <path d=\"M 0 248.518125 \r\nL 372.103125 248.518125 \r\nL 372.103125 0 \r\nL 0 0 \r\nz\r\n\" style=\"fill:none;\"/>\r\n  </g>\r\n  <g id=\"axes_1\">\r\n   <g id=\"patch_2\">\r\n    <path d=\"M 30.103125 224.64 \r\nL 364.903125 224.64 \r\nL 364.903125 7.2 \r\nL 30.103125 7.2 \r\nz\r\n\" style=\"fill:#ffffff;\"/>\r\n   </g>\r\n   <g id=\"matplotlib.axis_1\">\r\n    <g id=\"xtick_1\">\r\n     <g id=\"line2d_1\">\r\n      <defs>\r\n       <path d=\"M 0 0 \r\nL 0 3.5 \r\n\" id=\"mb004ff3604\" style=\"stroke:#000000;stroke-width:0.8;\"/>\r\n      </defs>\r\n      <g>\r\n       <use style=\"stroke:#000000;stroke-width:0.8;\" x=\"45.321307\" xlink:href=\"#mb004ff3604\" y=\"224.64\"/>\r\n      </g>\r\n     </g>\r\n     <g id=\"text_1\">\r\n      <!-- 0 -->\r\n      <defs>\r\n       <path d=\"M 31.78125 66.40625 \r\nQ 24.171875 66.40625 20.328125 58.90625 \r\nQ 16.5 51.421875 16.5 36.375 \r\nQ 16.5 21.390625 20.328125 13.890625 \r\nQ 24.171875 6.390625 31.78125 6.390625 \r\nQ 39.453125 6.390625 43.28125 13.890625 \r\nQ 47.125 21.390625 47.125 36.375 \r\nQ 47.125 51.421875 43.28125 58.90625 \r\nQ 39.453125 66.40625 31.78125 66.40625 \r\nz\r\nM 31.78125 74.21875 \r\nQ 44.046875 74.21875 50.515625 64.515625 \r\nQ 56.984375 54.828125 56.984375 36.375 \r\nQ 56.984375 17.96875 50.515625 8.265625 \r\nQ 44.046875 -1.421875 31.78125 -1.421875 \r\nQ 19.53125 -1.421875 13.0625 8.265625 \r\nQ 6.59375 17.96875 6.59375 36.375 \r\nQ 6.59375 54.828125 13.0625 64.515625 \r\nQ 19.53125 74.21875 31.78125 74.21875 \r\nz\r\n\" id=\"DejaVuSans-48\"/>\r\n      </defs>\r\n      <g transform=\"translate(42.140057 239.238437)scale(0.1 -0.1)\">\r\n       <use xlink:href=\"#DejaVuSans-48\"/>\r\n      </g>\r\n     </g>\r\n    </g>\r\n    <g id=\"xtick_2\">\r\n     <g id=\"line2d_2\">\r\n      <g>\r\n       <use style=\"stroke:#000000;stroke-width:0.8;\" x=\"92.915308\" xlink:href=\"#mb004ff3604\" y=\"224.64\"/>\r\n      </g>\r\n     </g>\r\n     <g id=\"text_2\">\r\n      <!-- 200 -->\r\n      <defs>\r\n       <path d=\"M 19.1875 8.296875 \r\nL 53.609375 8.296875 \r\nL 53.609375 0 \r\nL 7.328125 0 \r\nL 7.328125 8.296875 \r\nQ 12.9375 14.109375 22.625 23.890625 \r\nQ 32.328125 33.6875 34.8125 36.53125 \r\nQ 39.546875 41.84375 41.421875 45.53125 \r\nQ 43.3125 49.21875 43.3125 52.78125 \r\nQ 43.3125 58.59375 39.234375 62.25 \r\nQ 35.15625 65.921875 28.609375 65.921875 \r\nQ 23.96875 65.921875 18.8125 64.3125 \r\nQ 13.671875 62.703125 7.8125 59.421875 \r\nL 7.8125 69.390625 \r\nQ 13.765625 71.78125 18.9375 73 \r\nQ 24.125 74.21875 28.421875 74.21875 \r\nQ 39.75 74.21875 46.484375 68.546875 \r\nQ 53.21875 62.890625 53.21875 53.421875 \r\nQ 53.21875 48.921875 51.53125 44.890625 \r\nQ 49.859375 40.875 45.40625 35.40625 \r\nQ 44.1875 33.984375 37.640625 27.21875 \r\nQ 31.109375 20.453125 19.1875 8.296875 \r\nz\r\n\" id=\"DejaVuSans-50\"/>\r\n      </defs>\r\n      <g transform=\"translate(83.371558 239.238437)scale(0.1 -0.1)\">\r\n       <use xlink:href=\"#DejaVuSans-50\"/>\r\n       <use x=\"63.623047\" xlink:href=\"#DejaVuSans-48\"/>\r\n       <use x=\"127.246094\" xlink:href=\"#DejaVuSans-48\"/>\r\n      </g>\r\n     </g>\r\n    </g>\r\n    <g id=\"xtick_3\">\r\n     <g id=\"line2d_3\">\r\n      <g>\r\n       <use style=\"stroke:#000000;stroke-width:0.8;\" x=\"140.509309\" xlink:href=\"#mb004ff3604\" y=\"224.64\"/>\r\n      </g>\r\n     </g>\r\n     <g id=\"text_3\">\r\n      <!-- 400 -->\r\n      <defs>\r\n       <path d=\"M 37.796875 64.3125 \r\nL 12.890625 25.390625 \r\nL 37.796875 25.390625 \r\nz\r\nM 35.203125 72.90625 \r\nL 47.609375 72.90625 \r\nL 47.609375 25.390625 \r\nL 58.015625 25.390625 \r\nL 58.015625 17.1875 \r\nL 47.609375 17.1875 \r\nL 47.609375 0 \r\nL 37.796875 0 \r\nL 37.796875 17.1875 \r\nL 4.890625 17.1875 \r\nL 4.890625 26.703125 \r\nz\r\n\" id=\"DejaVuSans-52\"/>\r\n      </defs>\r\n      <g transform=\"translate(130.965559 239.238437)scale(0.1 -0.1)\">\r\n       <use xlink:href=\"#DejaVuSans-52\"/>\r\n       <use x=\"63.623047\" xlink:href=\"#DejaVuSans-48\"/>\r\n       <use x=\"127.246094\" xlink:href=\"#DejaVuSans-48\"/>\r\n      </g>\r\n     </g>\r\n    </g>\r\n    <g id=\"xtick_4\">\r\n     <g id=\"line2d_4\">\r\n      <g>\r\n       <use style=\"stroke:#000000;stroke-width:0.8;\" x=\"188.10331\" xlink:href=\"#mb004ff3604\" y=\"224.64\"/>\r\n      </g>\r\n     </g>\r\n     <g id=\"text_4\">\r\n      <!-- 600 -->\r\n      <defs>\r\n       <path d=\"M 33.015625 40.375 \r\nQ 26.375 40.375 22.484375 35.828125 \r\nQ 18.609375 31.296875 18.609375 23.390625 \r\nQ 18.609375 15.53125 22.484375 10.953125 \r\nQ 26.375 6.390625 33.015625 6.390625 \r\nQ 39.65625 6.390625 43.53125 10.953125 \r\nQ 47.40625 15.53125 47.40625 23.390625 \r\nQ 47.40625 31.296875 43.53125 35.828125 \r\nQ 39.65625 40.375 33.015625 40.375 \r\nz\r\nM 52.59375 71.296875 \r\nL 52.59375 62.3125 \r\nQ 48.875 64.0625 45.09375 64.984375 \r\nQ 41.3125 65.921875 37.59375 65.921875 \r\nQ 27.828125 65.921875 22.671875 59.328125 \r\nQ 17.53125 52.734375 16.796875 39.40625 \r\nQ 19.671875 43.65625 24.015625 45.921875 \r\nQ 28.375 48.1875 33.59375 48.1875 \r\nQ 44.578125 48.1875 50.953125 41.515625 \r\nQ 57.328125 34.859375 57.328125 23.390625 \r\nQ 57.328125 12.15625 50.6875 5.359375 \r\nQ 44.046875 -1.421875 33.015625 -1.421875 \r\nQ 20.359375 -1.421875 13.671875 8.265625 \r\nQ 6.984375 17.96875 6.984375 36.375 \r\nQ 6.984375 53.65625 15.1875 63.9375 \r\nQ 23.390625 74.21875 37.203125 74.21875 \r\nQ 40.921875 74.21875 44.703125 73.484375 \r\nQ 48.484375 72.75 52.59375 71.296875 \r\nz\r\n\" id=\"DejaVuSans-54\"/>\r\n      </defs>\r\n      <g transform=\"translate(178.55956 239.238437)scale(0.1 -0.1)\">\r\n       <use xlink:href=\"#DejaVuSans-54\"/>\r\n       <use x=\"63.623047\" xlink:href=\"#DejaVuSans-48\"/>\r\n       <use x=\"127.246094\" xlink:href=\"#DejaVuSans-48\"/>\r\n      </g>\r\n     </g>\r\n    </g>\r\n    <g id=\"xtick_5\">\r\n     <g id=\"line2d_5\">\r\n      <g>\r\n       <use style=\"stroke:#000000;stroke-width:0.8;\" x=\"235.697311\" xlink:href=\"#mb004ff3604\" y=\"224.64\"/>\r\n      </g>\r\n     </g>\r\n     <g id=\"text_5\">\r\n      <!-- 800 -->\r\n      <defs>\r\n       <path d=\"M 31.78125 34.625 \r\nQ 24.75 34.625 20.71875 30.859375 \r\nQ 16.703125 27.09375 16.703125 20.515625 \r\nQ 16.703125 13.921875 20.71875 10.15625 \r\nQ 24.75 6.390625 31.78125 6.390625 \r\nQ 38.8125 6.390625 42.859375 10.171875 \r\nQ 46.921875 13.96875 46.921875 20.515625 \r\nQ 46.921875 27.09375 42.890625 30.859375 \r\nQ 38.875 34.625 31.78125 34.625 \r\nz\r\nM 21.921875 38.8125 \r\nQ 15.578125 40.375 12.03125 44.71875 \r\nQ 8.5 49.078125 8.5 55.328125 \r\nQ 8.5 64.0625 14.71875 69.140625 \r\nQ 20.953125 74.21875 31.78125 74.21875 \r\nQ 42.671875 74.21875 48.875 69.140625 \r\nQ 55.078125 64.0625 55.078125 55.328125 \r\nQ 55.078125 49.078125 51.53125 44.71875 \r\nQ 48 40.375 41.703125 38.8125 \r\nQ 48.828125 37.15625 52.796875 32.3125 \r\nQ 56.78125 27.484375 56.78125 20.515625 \r\nQ 56.78125 9.90625 50.3125 4.234375 \r\nQ 43.84375 -1.421875 31.78125 -1.421875 \r\nQ 19.734375 -1.421875 13.25 4.234375 \r\nQ 6.78125 9.90625 6.78125 20.515625 \r\nQ 6.78125 27.484375 10.78125 32.3125 \r\nQ 14.796875 37.15625 21.921875 38.8125 \r\nz\r\nM 18.3125 54.390625 \r\nQ 18.3125 48.734375 21.84375 45.5625 \r\nQ 25.390625 42.390625 31.78125 42.390625 \r\nQ 38.140625 42.390625 41.71875 45.5625 \r\nQ 45.3125 48.734375 45.3125 54.390625 \r\nQ 45.3125 60.0625 41.71875 63.234375 \r\nQ 38.140625 66.40625 31.78125 66.40625 \r\nQ 25.390625 66.40625 21.84375 63.234375 \r\nQ 18.3125 60.0625 18.3125 54.390625 \r\nz\r\n\" id=\"DejaVuSans-56\"/>\r\n      </defs>\r\n      <g transform=\"translate(226.153561 239.238437)scale(0.1 -0.1)\">\r\n       <use xlink:href=\"#DejaVuSans-56\"/>\r\n       <use x=\"63.623047\" xlink:href=\"#DejaVuSans-48\"/>\r\n       <use x=\"127.246094\" xlink:href=\"#DejaVuSans-48\"/>\r\n      </g>\r\n     </g>\r\n    </g>\r\n    <g id=\"xtick_6\">\r\n     <g id=\"line2d_6\">\r\n      <g>\r\n       <use style=\"stroke:#000000;stroke-width:0.8;\" x=\"283.291312\" xlink:href=\"#mb004ff3604\" y=\"224.64\"/>\r\n      </g>\r\n     </g>\r\n     <g id=\"text_6\">\r\n      <!-- 1000 -->\r\n      <defs>\r\n       <path d=\"M 12.40625 8.296875 \r\nL 28.515625 8.296875 \r\nL 28.515625 63.921875 \r\nL 10.984375 60.40625 \r\nL 10.984375 69.390625 \r\nL 28.421875 72.90625 \r\nL 38.28125 72.90625 \r\nL 38.28125 8.296875 \r\nL 54.390625 8.296875 \r\nL 54.390625 0 \r\nL 12.40625 0 \r\nz\r\n\" id=\"DejaVuSans-49\"/>\r\n      </defs>\r\n      <g transform=\"translate(270.566312 239.238437)scale(0.1 -0.1)\">\r\n       <use xlink:href=\"#DejaVuSans-49\"/>\r\n       <use x=\"63.623047\" xlink:href=\"#DejaVuSans-48\"/>\r\n       <use x=\"127.246094\" xlink:href=\"#DejaVuSans-48\"/>\r\n       <use x=\"190.869141\" xlink:href=\"#DejaVuSans-48\"/>\r\n      </g>\r\n     </g>\r\n    </g>\r\n    <g id=\"xtick_7\">\r\n     <g id=\"line2d_7\">\r\n      <g>\r\n       <use style=\"stroke:#000000;stroke-width:0.8;\" x=\"330.885313\" xlink:href=\"#mb004ff3604\" y=\"224.64\"/>\r\n      </g>\r\n     </g>\r\n     <g id=\"text_7\">\r\n      <!-- 1200 -->\r\n      <g transform=\"translate(318.160313 239.238437)scale(0.1 -0.1)\">\r\n       <use xlink:href=\"#DejaVuSans-49\"/>\r\n       <use x=\"63.623047\" xlink:href=\"#DejaVuSans-50\"/>\r\n       <use x=\"127.246094\" xlink:href=\"#DejaVuSans-48\"/>\r\n       <use x=\"190.869141\" xlink:href=\"#DejaVuSans-48\"/>\r\n      </g>\r\n     </g>\r\n    </g>\r\n   </g>\r\n   <g id=\"matplotlib.axis_2\">\r\n    <g id=\"ytick_1\">\r\n     <g id=\"line2d_8\">\r\n      <defs>\r\n       <path d=\"M 0 0 \r\nL -3.5 0 \r\n\" id=\"m0bace98624\" style=\"stroke:#000000;stroke-width:0.8;\"/>\r\n      </defs>\r\n      <g>\r\n       <use style=\"stroke:#000000;stroke-width:0.8;\" x=\"30.103125\" xlink:href=\"#m0bace98624\" y=\"214.756364\"/>\r\n      </g>\r\n     </g>\r\n     <g id=\"text_8\">\r\n      <!-- 0.0 -->\r\n      <defs>\r\n       <path d=\"M 10.6875 12.40625 \r\nL 21 12.40625 \r\nL 21 0 \r\nL 10.6875 0 \r\nz\r\n\" id=\"DejaVuSans-46\"/>\r\n      </defs>\r\n      <g transform=\"translate(7.2 218.555582)scale(0.1 -0.1)\">\r\n       <use xlink:href=\"#DejaVuSans-48\"/>\r\n       <use x=\"63.623047\" xlink:href=\"#DejaVuSans-46\"/>\r\n       <use x=\"95.410156\" xlink:href=\"#DejaVuSans-48\"/>\r\n      </g>\r\n     </g>\r\n    </g>\r\n    <g id=\"ytick_2\">\r\n     <g id=\"line2d_9\">\r\n      <g>\r\n       <use style=\"stroke:#000000;stroke-width:0.8;\" x=\"30.103125\" xlink:href=\"#m0bace98624\" y=\"175.221818\"/>\r\n      </g>\r\n     </g>\r\n     <g id=\"text_9\">\r\n      <!-- 0.2 -->\r\n      <g transform=\"translate(7.2 179.021037)scale(0.1 -0.1)\">\r\n       <use xlink:href=\"#DejaVuSans-48\"/>\r\n       <use x=\"63.623047\" xlink:href=\"#DejaVuSans-46\"/>\r\n       <use x=\"95.410156\" xlink:href=\"#DejaVuSans-50\"/>\r\n      </g>\r\n     </g>\r\n    </g>\r\n    <g id=\"ytick_3\">\r\n     <g id=\"line2d_10\">\r\n      <g>\r\n       <use style=\"stroke:#000000;stroke-width:0.8;\" x=\"30.103125\" xlink:href=\"#m0bace98624\" y=\"135.687273\"/>\r\n      </g>\r\n     </g>\r\n     <g id=\"text_10\">\r\n      <!-- 0.4 -->\r\n      <g transform=\"translate(7.2 139.486491)scale(0.1 -0.1)\">\r\n       <use xlink:href=\"#DejaVuSans-48\"/>\r\n       <use x=\"63.623047\" xlink:href=\"#DejaVuSans-46\"/>\r\n       <use x=\"95.410156\" xlink:href=\"#DejaVuSans-52\"/>\r\n      </g>\r\n     </g>\r\n    </g>\r\n    <g id=\"ytick_4\">\r\n     <g id=\"line2d_11\">\r\n      <g>\r\n       <use style=\"stroke:#000000;stroke-width:0.8;\" x=\"30.103125\" xlink:href=\"#m0bace98624\" y=\"96.152727\"/>\r\n      </g>\r\n     </g>\r\n     <g id=\"text_11\">\r\n      <!-- 0.6 -->\r\n      <g transform=\"translate(7.2 99.951946)scale(0.1 -0.1)\">\r\n       <use xlink:href=\"#DejaVuSans-48\"/>\r\n       <use x=\"63.623047\" xlink:href=\"#DejaVuSans-46\"/>\r\n       <use x=\"95.410156\" xlink:href=\"#DejaVuSans-54\"/>\r\n      </g>\r\n     </g>\r\n    </g>\r\n    <g id=\"ytick_5\">\r\n     <g id=\"line2d_12\">\r\n      <g>\r\n       <use style=\"stroke:#000000;stroke-width:0.8;\" x=\"30.103125\" xlink:href=\"#m0bace98624\" y=\"56.618182\"/>\r\n      </g>\r\n     </g>\r\n     <g id=\"text_12\">\r\n      <!-- 0.8 -->\r\n      <g transform=\"translate(7.2 60.417401)scale(0.1 -0.1)\">\r\n       <use xlink:href=\"#DejaVuSans-48\"/>\r\n       <use x=\"63.623047\" xlink:href=\"#DejaVuSans-46\"/>\r\n       <use x=\"95.410156\" xlink:href=\"#DejaVuSans-56\"/>\r\n      </g>\r\n     </g>\r\n    </g>\r\n    <g id=\"ytick_6\">\r\n     <g id=\"line2d_13\">\r\n      <g>\r\n       <use style=\"stroke:#000000;stroke-width:0.8;\" x=\"30.103125\" xlink:href=\"#m0bace98624\" y=\"17.083636\"/>\r\n      </g>\r\n     </g>\r\n     <g id=\"text_13\">\r\n      <!-- 1.0 -->\r\n      <g transform=\"translate(7.2 20.882855)scale(0.1 -0.1)\">\r\n       <use xlink:href=\"#DejaVuSans-49\"/>\r\n       <use x=\"63.623047\" xlink:href=\"#DejaVuSans-46\"/>\r\n       <use x=\"95.410156\" xlink:href=\"#DejaVuSans-48\"/>\r\n      </g>\r\n     </g>\r\n    </g>\r\n   </g>\r\n   <g id=\"line2d_14\">\r\n    <path clip-path=\"url(#p8b88365a93)\" d=\"M 45.321307 214.756364 \r\nL 45.797247 82.904706 \r\nL 46.273187 73.472388 \r\nL 46.749127 68.100579 \r\nL 47.225067 64.915802 \r\nL 48.176947 61.124737 \r\nL 49.604767 56.613965 \r\nL 51.032587 52.906708 \r\nL 52.698377 49.200324 \r\nL 54.364167 46.076786 \r\nL 56.029957 43.437075 \r\nL 57.695747 41.223182 \r\nL 59.361537 39.368387 \r\nL 61.265297 37.564457 \r\nL 63.169057 36.040299 \r\nL 65.310787 34.642241 \r\nL 67.690487 33.368108 \r\nL 70.546127 32.106088 \r\nL 74.115677 30.798816 \r\nL 78.399138 29.487529 \r\nL 83.634478 28.119168 \r\nL 89.821698 26.735079 \r\nL 97.198768 25.335968 \r\nL 105.289748 24.044705 \r\nL 114.332608 22.829967 \r\nL 124.565318 21.675992 \r\nL 136.225849 20.595425 \r\nL 148.838259 19.654913 \r\nL 162.402549 18.864059 \r\nL 177.63263 18.209909 \r\nL 194.5285 17.715443 \r\nL 214.51798 17.358111 \r\nL 239.266861 17.142998 \r\nL 273.772512 17.085417 \r\nL 349.684943 17.083636 \r\nL 349.684943 17.083636 \r\n\" style=\"fill:none;stroke:#1f77b4;stroke-linecap:square;stroke-width:1.5;\"/>\r\n   </g>\r\n   <g id=\"patch_3\">\r\n    <path d=\"M 30.103125 224.64 \r\nL 30.103125 7.2 \r\n\" style=\"fill:none;stroke:#000000;stroke-linecap:square;stroke-linejoin:miter;stroke-width:0.8;\"/>\r\n   </g>\r\n   <g id=\"patch_4\">\r\n    <path d=\"M 364.903125 224.64 \r\nL 364.903125 7.2 \r\n\" style=\"fill:none;stroke:#000000;stroke-linecap:square;stroke-linejoin:miter;stroke-width:0.8;\"/>\r\n   </g>\r\n   <g id=\"patch_5\">\r\n    <path d=\"M 30.103125 224.64 \r\nL 364.903125 224.64 \r\n\" style=\"fill:none;stroke:#000000;stroke-linecap:square;stroke-linejoin:miter;stroke-width:0.8;\"/>\r\n   </g>\r\n   <g id=\"patch_6\">\r\n    <path d=\"M 30.103125 7.2 \r\nL 364.903125 7.2 \r\n\" style=\"fill:none;stroke:#000000;stroke-linecap:square;stroke-linejoin:miter;stroke-width:0.8;\"/>\r\n   </g>\r\n   <g id=\"legend_1\">\r\n    <g id=\"patch_7\">\r\n     <path d=\"M 271.35 219.64 \r\nL 357.903125 219.64 \r\nQ 359.903125 219.64 359.903125 217.64 \r\nL 359.903125 203.68375 \r\nQ 359.903125 201.68375 357.903125 201.68375 \r\nL 271.35 201.68375 \r\nQ 269.35 201.68375 269.35 203.68375 \r\nL 269.35 217.64 \r\nQ 269.35 219.64 271.35 219.64 \r\nz\r\n\" style=\"fill:#ffffff;opacity:0.8;stroke:#cccccc;stroke-linejoin:miter;\"/>\r\n    </g>\r\n    <g id=\"line2d_15\">\r\n     <path d=\"M 273.35 209.782187 \r\nL 293.35 209.782187 \r\n\" style=\"fill:none;stroke:#1f77b4;stroke-linecap:square;stroke-width:1.5;\"/>\r\n    </g>\r\n    <g id=\"line2d_16\"/>\r\n    <g id=\"text_14\">\r\n     <!-- ratio_sums -->\r\n     <defs>\r\n      <path d=\"M 41.109375 46.296875 \r\nQ 39.59375 47.171875 37.8125 47.578125 \r\nQ 36.03125 48 33.890625 48 \r\nQ 26.265625 48 22.1875 43.046875 \r\nQ 18.109375 38.09375 18.109375 28.8125 \r\nL 18.109375 0 \r\nL 9.078125 0 \r\nL 9.078125 54.6875 \r\nL 18.109375 54.6875 \r\nL 18.109375 46.1875 \r\nQ 20.953125 51.171875 25.484375 53.578125 \r\nQ 30.03125 56 36.53125 56 \r\nQ 37.453125 56 38.578125 55.875 \r\nQ 39.703125 55.765625 41.0625 55.515625 \r\nz\r\n\" id=\"DejaVuSans-114\"/>\r\n      <path d=\"M 34.28125 27.484375 \r\nQ 23.390625 27.484375 19.1875 25 \r\nQ 14.984375 22.515625 14.984375 16.5 \r\nQ 14.984375 11.71875 18.140625 8.90625 \r\nQ 21.296875 6.109375 26.703125 6.109375 \r\nQ 34.1875 6.109375 38.703125 11.40625 \r\nQ 43.21875 16.703125 43.21875 25.484375 \r\nL 43.21875 27.484375 \r\nz\r\nM 52.203125 31.203125 \r\nL 52.203125 0 \r\nL 43.21875 0 \r\nL 43.21875 8.296875 \r\nQ 40.140625 3.328125 35.546875 0.953125 \r\nQ 30.953125 -1.421875 24.3125 -1.421875 \r\nQ 15.921875 -1.421875 10.953125 3.296875 \r\nQ 6 8.015625 6 15.921875 \r\nQ 6 25.140625 12.171875 29.828125 \r\nQ 18.359375 34.515625 30.609375 34.515625 \r\nL 43.21875 34.515625 \r\nL 43.21875 35.40625 \r\nQ 43.21875 41.609375 39.140625 45 \r\nQ 35.0625 48.390625 27.6875 48.390625 \r\nQ 23 48.390625 18.546875 47.265625 \r\nQ 14.109375 46.140625 10.015625 43.890625 \r\nL 10.015625 52.203125 \r\nQ 14.9375 54.109375 19.578125 55.046875 \r\nQ 24.21875 56 28.609375 56 \r\nQ 40.484375 56 46.34375 49.84375 \r\nQ 52.203125 43.703125 52.203125 31.203125 \r\nz\r\n\" id=\"DejaVuSans-97\"/>\r\n      <path d=\"M 18.3125 70.21875 \r\nL 18.3125 54.6875 \r\nL 36.8125 54.6875 \r\nL 36.8125 47.703125 \r\nL 18.3125 47.703125 \r\nL 18.3125 18.015625 \r\nQ 18.3125 11.328125 20.140625 9.421875 \r\nQ 21.96875 7.515625 27.59375 7.515625 \r\nL 36.8125 7.515625 \r\nL 36.8125 0 \r\nL 27.59375 0 \r\nQ 17.1875 0 13.234375 3.875 \r\nQ 9.28125 7.765625 9.28125 18.015625 \r\nL 9.28125 47.703125 \r\nL 2.6875 47.703125 \r\nL 2.6875 54.6875 \r\nL 9.28125 54.6875 \r\nL 9.28125 70.21875 \r\nz\r\n\" id=\"DejaVuSans-116\"/>\r\n      <path d=\"M 9.421875 54.6875 \r\nL 18.40625 54.6875 \r\nL 18.40625 0 \r\nL 9.421875 0 \r\nz\r\nM 9.421875 75.984375 \r\nL 18.40625 75.984375 \r\nL 18.40625 64.59375 \r\nL 9.421875 64.59375 \r\nz\r\n\" id=\"DejaVuSans-105\"/>\r\n      <path d=\"M 30.609375 48.390625 \r\nQ 23.390625 48.390625 19.1875 42.75 \r\nQ 14.984375 37.109375 14.984375 27.296875 \r\nQ 14.984375 17.484375 19.15625 11.84375 \r\nQ 23.34375 6.203125 30.609375 6.203125 \r\nQ 37.796875 6.203125 41.984375 11.859375 \r\nQ 46.1875 17.53125 46.1875 27.296875 \r\nQ 46.1875 37.015625 41.984375 42.703125 \r\nQ 37.796875 48.390625 30.609375 48.390625 \r\nz\r\nM 30.609375 56 \r\nQ 42.328125 56 49.015625 48.375 \r\nQ 55.71875 40.765625 55.71875 27.296875 \r\nQ 55.71875 13.875 49.015625 6.21875 \r\nQ 42.328125 -1.421875 30.609375 -1.421875 \r\nQ 18.84375 -1.421875 12.171875 6.21875 \r\nQ 5.515625 13.875 5.515625 27.296875 \r\nQ 5.515625 40.765625 12.171875 48.375 \r\nQ 18.84375 56 30.609375 56 \r\nz\r\n\" id=\"DejaVuSans-111\"/>\r\n      <path d=\"M 50.984375 -16.609375 \r\nL 50.984375 -23.578125 \r\nL -0.984375 -23.578125 \r\nL -0.984375 -16.609375 \r\nz\r\n\" id=\"DejaVuSans-95\"/>\r\n      <path d=\"M 44.28125 53.078125 \r\nL 44.28125 44.578125 \r\nQ 40.484375 46.53125 36.375 47.5 \r\nQ 32.28125 48.484375 27.875 48.484375 \r\nQ 21.1875 48.484375 17.84375 46.4375 \r\nQ 14.5 44.390625 14.5 40.28125 \r\nQ 14.5 37.15625 16.890625 35.375 \r\nQ 19.28125 33.59375 26.515625 31.984375 \r\nL 29.59375 31.296875 \r\nQ 39.15625 29.25 43.1875 25.515625 \r\nQ 47.21875 21.78125 47.21875 15.09375 \r\nQ 47.21875 7.46875 41.1875 3.015625 \r\nQ 35.15625 -1.421875 24.609375 -1.421875 \r\nQ 20.21875 -1.421875 15.453125 -0.5625 \r\nQ 10.6875 0.296875 5.421875 2 \r\nL 5.421875 11.28125 \r\nQ 10.40625 8.6875 15.234375 7.390625 \r\nQ 20.0625 6.109375 24.8125 6.109375 \r\nQ 31.15625 6.109375 34.5625 8.28125 \r\nQ 37.984375 10.453125 37.984375 14.40625 \r\nQ 37.984375 18.0625 35.515625 20.015625 \r\nQ 33.0625 21.96875 24.703125 23.78125 \r\nL 21.578125 24.515625 \r\nQ 13.234375 26.265625 9.515625 29.90625 \r\nQ 5.8125 33.546875 5.8125 39.890625 \r\nQ 5.8125 47.609375 11.28125 51.796875 \r\nQ 16.75 56 26.8125 56 \r\nQ 31.78125 56 36.171875 55.265625 \r\nQ 40.578125 54.546875 44.28125 53.078125 \r\nz\r\n\" id=\"DejaVuSans-115\"/>\r\n      <path d=\"M 8.5 21.578125 \r\nL 8.5 54.6875 \r\nL 17.484375 54.6875 \r\nL 17.484375 21.921875 \r\nQ 17.484375 14.15625 20.5 10.265625 \r\nQ 23.53125 6.390625 29.59375 6.390625 \r\nQ 36.859375 6.390625 41.078125 11.03125 \r\nQ 45.3125 15.671875 45.3125 23.6875 \r\nL 45.3125 54.6875 \r\nL 54.296875 54.6875 \r\nL 54.296875 0 \r\nL 45.3125 0 \r\nL 45.3125 8.40625 \r\nQ 42.046875 3.421875 37.71875 1 \r\nQ 33.40625 -1.421875 27.6875 -1.421875 \r\nQ 18.265625 -1.421875 13.375 4.4375 \r\nQ 8.5 10.296875 8.5 21.578125 \r\nz\r\nM 31.109375 56 \r\nz\r\n\" id=\"DejaVuSans-117\"/>\r\n      <path d=\"M 52 44.1875 \r\nQ 55.375 50.25 60.0625 53.125 \r\nQ 64.75 56 71.09375 56 \r\nQ 79.640625 56 84.28125 50.015625 \r\nQ 88.921875 44.046875 88.921875 33.015625 \r\nL 88.921875 0 \r\nL 79.890625 0 \r\nL 79.890625 32.71875 \r\nQ 79.890625 40.578125 77.09375 44.375 \r\nQ 74.3125 48.1875 68.609375 48.1875 \r\nQ 61.625 48.1875 57.5625 43.546875 \r\nQ 53.515625 38.921875 53.515625 30.90625 \r\nL 53.515625 0 \r\nL 44.484375 0 \r\nL 44.484375 32.71875 \r\nQ 44.484375 40.625 41.703125 44.40625 \r\nQ 38.921875 48.1875 33.109375 48.1875 \r\nQ 26.21875 48.1875 22.15625 43.53125 \r\nQ 18.109375 38.875 18.109375 30.90625 \r\nL 18.109375 0 \r\nL 9.078125 0 \r\nL 9.078125 54.6875 \r\nL 18.109375 54.6875 \r\nL 18.109375 46.1875 \r\nQ 21.1875 51.21875 25.484375 53.609375 \r\nQ 29.78125 56 35.6875 56 \r\nQ 41.65625 56 45.828125 52.96875 \r\nQ 50 49.953125 52 44.1875 \r\nz\r\n\" id=\"DejaVuSans-109\"/>\r\n     </defs>\r\n     <g transform=\"translate(301.35 213.282187)scale(0.1 -0.1)\">\r\n      <use xlink:href=\"#DejaVuSans-114\"/>\r\n      <use x=\"41.113281\" xlink:href=\"#DejaVuSans-97\"/>\r\n      <use x=\"102.392578\" xlink:href=\"#DejaVuSans-116\"/>\r\n      <use x=\"141.601562\" xlink:href=\"#DejaVuSans-105\"/>\r\n      <use x=\"169.384766\" xlink:href=\"#DejaVuSans-111\"/>\r\n      <use x=\"230.566406\" xlink:href=\"#DejaVuSans-95\"/>\r\n      <use x=\"280.566406\" xlink:href=\"#DejaVuSans-115\"/>\r\n      <use x=\"332.666016\" xlink:href=\"#DejaVuSans-117\"/>\r\n      <use x=\"396.044922\" xlink:href=\"#DejaVuSans-109\"/>\r\n      <use x=\"493.457031\" xlink:href=\"#DejaVuSans-115\"/>\r\n     </g>\r\n    </g>\r\n   </g>\r\n  </g>\r\n </g>\r\n <defs>\r\n  <clipPath id=\"p8b88365a93\">\r\n   <rect height=\"217.44\" width=\"334.8\" x=\"30.103125\" y=\"7.2\"/>\r\n  </clipPath>\r\n </defs>\r\n</svg>\r\n",
      "image/png": "[encoded data removed]"
     },
     "metadata": {
      "needs_background": "light"
     }
    }
   ],
   "source": [
    "pca = decomposition.PCA(n_components=1280)\n",
    "pca.fit(x_scaled)\n",
    "pca_x = pca.transform(x_scaled)\n",
    "\n",
    "variance = []\n",
    "for i in range(1280):\n",
    "    variance.append(sum(pca.explained_variance_ratio_[0:i]))\n",
    "\n",
    "variance = pd.DataFrame(variance,columns=['ratio_sums'])\n",
    "plot = variance.plot()\n"
   ]
  },
  {
   "cell_type": "code",
   "execution_count": 71,
   "metadata": {
    "tags": []
   },
   "outputs": [
    {
     "output_type": "stream",
     "name": "stdout",
     "text": "(3300, 183)\n"
    }
   ],
   "source": [
    "pca = decomposition.PCA(n_components=.95)\n",
    "pca.fit(x_scaled)\n",
    "pca_x = pca.transform(x_scaled)\n",
    "print(pca_x.shape)\n",
    "x_train, x_test, y_train, y_test = train_test_split(pca_x, y, test_size=0.2)"
   ]
  },
  {
   "cell_type": "code",
   "execution_count": 72,
   "metadata": {
    "tags": []
   },
   "outputs": [
    {
     "output_type": "stream",
     "name": "stdout",
     "text": "Model: \"Fully_Connected_w/PCA\"\n_________________________________________________________________\nLayer (type)                 Output Shape              Param #   \n=================================================================\ndense_20 (Dense)             (None, 128)               23552     \n_________________________________________________________________\ndense_21 (Dense)             (None, 64)                8256      \n_________________________________________________________________\ndense_22 (Dense)             (None, 32)                2080      \n_________________________________________________________________\ndense_23 (Dense)             (None, 2)                 66        \n=================================================================\nTotal params: 33,954\nTrainable params: 33,954\nNon-trainable params: 0\n_________________________________________________________________\nTrain on 2112 samples, validate on 528 samples\nEpoch 1/100\n2112/2112 [==============================] - 1s 524us/sample - loss: 0.6527 - accuracy: 0.6146 - val_loss: 0.6066 - val_accuracy: 0.6193\nEpoch 2/100\n2112/2112 [==============================] - 0s 109us/sample - loss: 0.5926 - accuracy: 0.6572 - val_loss: 0.5744 - val_accuracy: 0.6780\nEpoch 3/100\n2112/2112 [==============================] - 0s 109us/sample - loss: 0.5634 - accuracy: 0.7024 - val_loss: 0.5516 - val_accuracy: 0.7225\nEpoch 4/100\n2112/2112 [==============================] - 0s 116us/sample - loss: 0.5409 - accuracy: 0.7386 - val_loss: 0.5326 - val_accuracy: 0.7509\nEpoch 5/100\n2112/2112 [==============================] - 0s 112us/sample - loss: 0.5211 - accuracy: 0.7647 - val_loss: 0.5157 - val_accuracy: 0.7718\nEpoch 6/100\n2112/2112 [==============================] - 0s 113us/sample - loss: 0.5034 - accuracy: 0.7853 - val_loss: 0.5004 - val_accuracy: 0.7888\nEpoch 7/100\n2112/2112 [==============================] - 0s 105us/sample - loss: 0.4876 - accuracy: 0.8016 - val_loss: 0.4865 - val_accuracy: 0.8040\nEpoch 8/100\n2112/2112 [==============================] - 0s 97us/sample - loss: 0.4730 - accuracy: 0.8187 - val_loss: 0.4740 - val_accuracy: 0.8153\nEpoch 9/100\n2112/2112 [==============================] - 0s 115us/sample - loss: 0.4601 - accuracy: 0.8258 - val_loss: 0.4630 - val_accuracy: 0.8258\nEpoch 10/100\n2112/2112 [==============================] - 0s 117us/sample - loss: 0.4488 - accuracy: 0.8348 - val_loss: 0.4531 - val_accuracy: 0.8333\nEpoch 11/100\n2112/2112 [==============================] - 0s 118us/sample - loss: 0.4385 - accuracy: 0.8397 - val_loss: 0.4445 - val_accuracy: 0.8409\nEpoch 12/100\n2112/2112 [==============================] - 0s 105us/sample - loss: 0.4292 - accuracy: 0.8456 - val_loss: 0.4364 - val_accuracy: 0.8475\nEpoch 13/100\n2112/2112 [==============================] - 0s 115us/sample - loss: 0.4209 - accuracy: 0.8506 - val_loss: 0.4291 - val_accuracy: 0.8513\nEpoch 14/100\n2112/2112 [==============================] - 0s 107us/sample - loss: 0.4132 - accuracy: 0.8539 - val_loss: 0.4227 - val_accuracy: 0.8589\nEpoch 15/100\n2112/2112 [==============================] - 0s 115us/sample - loss: 0.4063 - accuracy: 0.8589 - val_loss: 0.4170 - val_accuracy: 0.8636\nEpoch 16/100\n2112/2112 [==============================] - 0s 113us/sample - loss: 0.4001 - accuracy: 0.8622 - val_loss: 0.4119 - val_accuracy: 0.8646\nEpoch 17/100\n2112/2112 [==============================] - 0s 116us/sample - loss: 0.3946 - accuracy: 0.8629 - val_loss: 0.4075 - val_accuracy: 0.8665\nEpoch 18/100\n2112/2112 [==============================] - 0s 116us/sample - loss: 0.3896 - accuracy: 0.8641 - val_loss: 0.4036 - val_accuracy: 0.8674\nEpoch 19/100\n2112/2112 [==============================] - 0s 121us/sample - loss: 0.3849 - accuracy: 0.8655 - val_loss: 0.4000 - val_accuracy: 0.8693\nEpoch 20/100\n2112/2112 [==============================] - 0s 112us/sample - loss: 0.3806 - accuracy: 0.8658 - val_loss: 0.3969 - val_accuracy: 0.8693\nEpoch 21/100\n2112/2112 [==============================] - 0s 117us/sample - loss: 0.3765 - accuracy: 0.8674 - val_loss: 0.3938 - val_accuracy: 0.8703\nEpoch 22/100\n2112/2112 [==============================] - 0s 114us/sample - loss: 0.3728 - accuracy: 0.8693 - val_loss: 0.3910 - val_accuracy: 0.8703\nEpoch 23/100\n2112/2112 [==============================] - 0s 122us/sample - loss: 0.3693 - accuracy: 0.8696 - val_loss: 0.3885 - val_accuracy: 0.8703\nEpoch 24/100\n2112/2112 [==============================] - 0s 111us/sample - loss: 0.3661 - accuracy: 0.8712 - val_loss: 0.3861 - val_accuracy: 0.8703\nEpoch 25/100\n2112/2112 [==============================] - 0s 103us/sample - loss: 0.3629 - accuracy: 0.8714 - val_loss: 0.3839 - val_accuracy: 0.8712\nEpoch 26/100\n2112/2112 [==============================] - 0s 104us/sample - loss: 0.3598 - accuracy: 0.8733 - val_loss: 0.3819 - val_accuracy: 0.8703\nEpoch 27/100\n2112/2112 [==============================] - 0s 100us/sample - loss: 0.3569 - accuracy: 0.8741 - val_loss: 0.3800 - val_accuracy: 0.8703\nEpoch 28/100\n2112/2112 [==============================] - 0s 101us/sample - loss: 0.3544 - accuracy: 0.8748 - val_loss: 0.3783 - val_accuracy: 0.8684\nEpoch 29/100\n2112/2112 [==============================] - 0s 83us/sample - loss: 0.3516 - accuracy: 0.8752 - val_loss: 0.3766 - val_accuracy: 0.8684\nEpoch 30/100\n2112/2112 [==============================] - 0s 101us/sample - loss: 0.3490 - accuracy: 0.8762 - val_loss: 0.3750 - val_accuracy: 0.8684\nEpoch 31/100\n2112/2112 [==============================] - 0s 104us/sample - loss: 0.3465 - accuracy: 0.8774 - val_loss: 0.3734 - val_accuracy: 0.8684\nEpoch 32/100\n2112/2112 [==============================] - 0s 106us/sample - loss: 0.3442 - accuracy: 0.8774 - val_loss: 0.3719 - val_accuracy: 0.8693\nEpoch 33/100\n2112/2112 [==============================] - 0s 98us/sample - loss: 0.3420 - accuracy: 0.8781 - val_loss: 0.3705 - val_accuracy: 0.8712\nEpoch 34/100\n2112/2112 [==============================] - 0s 98us/sample - loss: 0.3397 - accuracy: 0.8783 - val_loss: 0.3693 - val_accuracy: 0.8722\nEpoch 35/100\n2112/2112 [==============================] - 0s 88us/sample - loss: 0.3375 - accuracy: 0.8790 - val_loss: 0.3679 - val_accuracy: 0.8722\nEpoch 36/100\n2112/2112 [==============================] - 0s 138us/sample - loss: 0.3355 - accuracy: 0.8793 - val_loss: 0.3664 - val_accuracy: 0.8722\nEpoch 37/100\n2112/2112 [==============================] - 0s 190us/sample - loss: 0.3333 - accuracy: 0.8795 - val_loss: 0.3653 - val_accuracy: 0.8722\nEpoch 38/100\n2112/2112 [==============================] - 0s 168us/sample - loss: 0.3313 - accuracy: 0.8802 - val_loss: 0.3644 - val_accuracy: 0.8712\nEpoch 39/100\n2112/2112 [==============================] - 0s 88us/sample - loss: 0.3295 - accuracy: 0.8807 - val_loss: 0.3628 - val_accuracy: 0.8722\nEpoch 40/100\n2112/2112 [==============================] - 0s 88us/sample - loss: 0.3277 - accuracy: 0.8809 - val_loss: 0.3616 - val_accuracy: 0.8722\nEpoch 41/100\n2112/2112 [==============================] - 0s 92us/sample - loss: 0.3259 - accuracy: 0.8804 - val_loss: 0.3606 - val_accuracy: 0.8722\nEpoch 42/100\n2112/2112 [==============================] - 0s 96us/sample - loss: 0.3239 - accuracy: 0.8812 - val_loss: 0.3599 - val_accuracy: 0.8712\nEpoch 43/100\n2112/2112 [==============================] - 0s 147us/sample - loss: 0.3223 - accuracy: 0.8821 - val_loss: 0.3588 - val_accuracy: 0.8712\nEpoch 44/100\n2112/2112 [==============================] - 0s 157us/sample - loss: 0.3206 - accuracy: 0.8819 - val_loss: 0.3575 - val_accuracy: 0.8731\nEpoch 45/100\n2112/2112 [==============================] - 0s 132us/sample - loss: 0.3188 - accuracy: 0.8823 - val_loss: 0.3567 - val_accuracy: 0.8731\nEpoch 46/100\n2112/2112 [==============================] - 0s 198us/sample - loss: 0.3172 - accuracy: 0.8826 - val_loss: 0.3557 - val_accuracy: 0.8731\nEpoch 47/100\n2112/2112 [==============================] - 0s 188us/sample - loss: 0.3157 - accuracy: 0.8826 - val_loss: 0.3550 - val_accuracy: 0.8731\nEpoch 48/100\n2112/2112 [==============================] - 0s 74us/sample - loss: 0.3140 - accuracy: 0.8838 - val_loss: 0.3539 - val_accuracy: 0.8731\nEpoch 49/100\n2112/2112 [==============================] - 0s 75us/sample - loss: 0.3125 - accuracy: 0.8840 - val_loss: 0.3531 - val_accuracy: 0.8741\nEpoch 50/100\n2112/2112 [==============================] - 0s 89us/sample - loss: 0.3109 - accuracy: 0.8838 - val_loss: 0.3524 - val_accuracy: 0.8741\nEpoch 51/100\n2112/2112 [==============================] - 0s 92us/sample - loss: 0.3094 - accuracy: 0.8847 - val_loss: 0.3514 - val_accuracy: 0.8741\nEpoch 52/100\n2112/2112 [==============================] - 0s 101us/sample - loss: 0.3079 - accuracy: 0.8847 - val_loss: 0.3509 - val_accuracy: 0.8731\nEpoch 53/100\n2112/2112 [==============================] - 0s 99us/sample - loss: 0.3064 - accuracy: 0.8854 - val_loss: 0.3499 - val_accuracy: 0.8741\nEpoch 54/100\n2112/2112 [==============================] - 0s 104us/sample - loss: 0.3050 - accuracy: 0.8857 - val_loss: 0.3491 - val_accuracy: 0.8750\nEpoch 55/100\n2112/2112 [==============================] - 0s 102us/sample - loss: 0.3034 - accuracy: 0.8857 - val_loss: 0.3484 - val_accuracy: 0.8750\nEpoch 56/100\n2112/2112 [==============================] - 0s 102us/sample - loss: 0.3021 - accuracy: 0.8857 - val_loss: 0.3477 - val_accuracy: 0.8750\nEpoch 57/100\n2112/2112 [==============================] - 0s 92us/sample - loss: 0.3006 - accuracy: 0.8857 - val_loss: 0.3470 - val_accuracy: 0.8750\nEpoch 58/100\n2112/2112 [==============================] - 0s 102us/sample - loss: 0.2992 - accuracy: 0.8859 - val_loss: 0.3463 - val_accuracy: 0.8759\nEpoch 59/100\n2112/2112 [==============================] - 0s 96us/sample - loss: 0.2978 - accuracy: 0.8857 - val_loss: 0.3456 - val_accuracy: 0.8769\nEpoch 60/100\n2112/2112 [==============================] - 0s 87us/sample - loss: 0.2964 - accuracy: 0.8859 - val_loss: 0.3448 - val_accuracy: 0.8759\nEpoch 61/100\n2112/2112 [==============================] - 0s 90us/sample - loss: 0.2951 - accuracy: 0.8859 - val_loss: 0.3442 - val_accuracy: 0.8759\nEpoch 62/100\n2112/2112 [==============================] - 0s 92us/sample - loss: 0.2938 - accuracy: 0.8859 - val_loss: 0.3437 - val_accuracy: 0.8769\nEpoch 63/100\n2112/2112 [==============================] - 0s 87us/sample - loss: 0.2924 - accuracy: 0.8859 - val_loss: 0.3431 - val_accuracy: 0.8759\nEpoch 64/100\n2112/2112 [==============================] - 0s 87us/sample - loss: 0.2911 - accuracy: 0.8859 - val_loss: 0.3425 - val_accuracy: 0.8778\nEpoch 65/100\n2112/2112 [==============================] - 0s 95us/sample - loss: 0.2897 - accuracy: 0.8859 - val_loss: 0.3421 - val_accuracy: 0.8759\nEpoch 66/100\n2112/2112 [==============================] - 0s 95us/sample - loss: 0.2885 - accuracy: 0.8864 - val_loss: 0.3415 - val_accuracy: 0.8750\nEpoch 67/100\n2112/2112 [==============================] - 0s 90us/sample - loss: 0.2872 - accuracy: 0.8861 - val_loss: 0.3410 - val_accuracy: 0.8750\nEpoch 68/100\n2112/2112 [==============================] - 0s 86us/sample - loss: 0.2859 - accuracy: 0.8864 - val_loss: 0.3403 - val_accuracy: 0.8778\nEpoch 69/100\n2112/2112 [==============================] - 0s 89us/sample - loss: 0.2847 - accuracy: 0.8868 - val_loss: 0.3399 - val_accuracy: 0.8759\nEpoch 70/100\n2112/2112 [==============================] - 0s 93us/sample - loss: 0.2833 - accuracy: 0.8868 - val_loss: 0.3397 - val_accuracy: 0.8741\nEpoch 71/100\n2112/2112 [==============================] - 0s 94us/sample - loss: 0.2821 - accuracy: 0.8878 - val_loss: 0.3390 - val_accuracy: 0.8750\nEpoch 72/100\n2112/2112 [==============================] - 0s 84us/sample - loss: 0.2808 - accuracy: 0.8878 - val_loss: 0.3384 - val_accuracy: 0.8778\nEpoch 73/100\n2112/2112 [==============================] - 0s 76us/sample - loss: 0.2797 - accuracy: 0.8880 - val_loss: 0.3380 - val_accuracy: 0.8750\nEpoch 74/100\n2112/2112 [==============================] - 0s 99us/sample - loss: 0.2784 - accuracy: 0.8880 - val_loss: 0.3378 - val_accuracy: 0.8741\nEpoch 75/100\n2112/2112 [==============================] - 0s 100us/sample - loss: 0.2771 - accuracy: 0.8890 - val_loss: 0.3371 - val_accuracy: 0.8769\nEpoch 76/100\n2112/2112 [==============================] - 0s 91us/sample - loss: 0.2760 - accuracy: 0.8883 - val_loss: 0.3370 - val_accuracy: 0.8750\nEpoch 77/100\n2112/2112 [==============================] - 0s 99us/sample - loss: 0.2749 - accuracy: 0.8890 - val_loss: 0.3364 - val_accuracy: 0.8759\nEpoch 78/100\n2112/2112 [==============================] - 0s 100us/sample - loss: 0.2735 - accuracy: 0.8885 - val_loss: 0.3363 - val_accuracy: 0.8741\nEpoch 79/100\n2112/2112 [==============================] - 0s 97us/sample - loss: 0.2723 - accuracy: 0.8892 - val_loss: 0.3360 - val_accuracy: 0.8750\nEpoch 80/100\n2112/2112 [==============================] - 0s 101us/sample - loss: 0.2712 - accuracy: 0.8890 - val_loss: 0.3354 - val_accuracy: 0.8759\nEpoch 81/100\n2112/2112 [==============================] - 0s 99us/sample - loss: 0.2701 - accuracy: 0.8892 - val_loss: 0.3349 - val_accuracy: 0.8750\nEpoch 82/100\n2112/2112 [==============================] - 0s 97us/sample - loss: 0.2688 - accuracy: 0.8894 - val_loss: 0.3345 - val_accuracy: 0.8750\nEpoch 83/100\n2112/2112 [==============================] - 0s 102us/sample - loss: 0.2677 - accuracy: 0.8894 - val_loss: 0.3343 - val_accuracy: 0.8759\nEpoch 84/100\n2112/2112 [==============================] - 0s 98us/sample - loss: 0.2665 - accuracy: 0.8897 - val_loss: 0.3343 - val_accuracy: 0.8750\nEpoch 85/100\n2112/2112 [==============================] - 0s 96us/sample - loss: 0.2654 - accuracy: 0.8904 - val_loss: 0.3338 - val_accuracy: 0.8769\nEpoch 86/100\n2112/2112 [==============================] - 0s 97us/sample - loss: 0.2642 - accuracy: 0.8899 - val_loss: 0.3336 - val_accuracy: 0.8759\nEpoch 87/100\n2112/2112 [==============================] - 0s 107us/sample - loss: 0.2631 - accuracy: 0.8904 - val_loss: 0.3333 - val_accuracy: 0.8759\nEpoch 88/100\n2112/2112 [==============================] - 0s 157us/sample - loss: 0.2620 - accuracy: 0.8906 - val_loss: 0.3327 - val_accuracy: 0.8778\nEpoch 89/100\n2112/2112 [==============================] - 0s 102us/sample - loss: 0.2607 - accuracy: 0.8906 - val_loss: 0.3323 - val_accuracy: 0.8778\nEpoch 90/100\n2112/2112 [==============================] - 0s 98us/sample - loss: 0.2597 - accuracy: 0.8906 - val_loss: 0.3324 - val_accuracy: 0.8759\nEpoch 91/100\n2112/2112 [==============================] - 0s 91us/sample - loss: 0.2585 - accuracy: 0.8909 - val_loss: 0.3318 - val_accuracy: 0.8759\nEpoch 92/100\n2112/2112 [==============================] - 0s 89us/sample - loss: 0.2574 - accuracy: 0.8909 - val_loss: 0.3316 - val_accuracy: 0.8759\nEpoch 93/100\n2112/2112 [==============================] - 0s 90us/sample - loss: 0.2563 - accuracy: 0.8909 - val_loss: 0.3312 - val_accuracy: 0.8769\nEpoch 94/100\n2112/2112 [==============================] - 0s 107us/sample - loss: 0.2551 - accuracy: 0.8906 - val_loss: 0.3312 - val_accuracy: 0.8759\nEpoch 95/100\n2112/2112 [==============================] - 0s 105us/sample - loss: 0.2540 - accuracy: 0.8916 - val_loss: 0.3308 - val_accuracy: 0.8759\nEpoch 96/100\n2112/2112 [==============================] - 0s 70us/sample - loss: 0.2529 - accuracy: 0.8913 - val_loss: 0.3303 - val_accuracy: 0.8778\nEpoch 97/100\n2112/2112 [==============================] - 0s 68us/sample - loss: 0.2518 - accuracy: 0.8916 - val_loss: 0.3302 - val_accuracy: 0.8769\nEpoch 98/100\n2112/2112 [==============================] - 0s 114us/sample - loss: 0.2507 - accuracy: 0.8916 - val_loss: 0.3300 - val_accuracy: 0.8759\nEpoch 99/100\n2112/2112 [==============================] - 0s 158us/sample - loss: 0.2496 - accuracy: 0.8918 - val_loss: 0.3300 - val_accuracy: 0.8759\nEpoch 100/100\n2112/2112 [==============================] - 0s 133us/sample - loss: 0.2485 - accuracy: 0.8920 - val_loss: 0.3298 - val_accuracy: 0.8759\nTest Accuracy: 87.65151500701904 %\n"
    }
   ],
   "source": [
    "model_pca = keras.Sequential(name='Fully_Connected_w/PCA')\n",
    "model_pca.add(Dense(128, activation='relu', input_shape=(183,)))\n",
    "model_pca.add(Dense(64, activation='relu'))\n",
    "model_pca.add(Dense(32, activation='relu'))\n",
    "model_pca.add(Dense(2, activation='sigmoid'))\n",
    "\n",
    "opt = SGD(lr = .0045)\n",
    "model_pca.compile(optimizer=opt, loss='binary_crossentropy', metrics=['accuracy'])\n",
    "model_pca.build(input_shape=(183,))\n",
    "model_pca.summary()\n",
    "\n",
    "fit_all = model_pca.fit(x = x_train,\n",
    "        y = y_train, \n",
    "        epochs = 100,\n",
    "        batch_size = 64,\n",
    "        validation_split = .2,\n",
    "        verbose=True)\n",
    "\n",
    "metrics = model_pca.evaluate(x_test,y_test, verbose=0)\n",
    "print('Test Accuracy: {} %'.format(metrics[1]*100))\n"
   ]
  },
  {
   "cell_type": "code",
   "execution_count": 73,
   "metadata": {
    "tags": []
   },
   "outputs": [
    {
     "output_type": "stream",
     "name": "stdout",
     "text": "y train: (2640, 2)\ny test: (660, 2)\nx train: (2640, 183)\ny test: (660, 2)\ny train: (2640, 2)\ny test: (660, 2)\nx train: (2640, 183)\ny test: (660, 2)\n"
    }
   ],
   "source": [
    "print('y train: ' + str(y_train.shape))\n",
    "print('y test: ' + str(y_test.shape))\n",
    "print('x train: ' + str(x_train.shape))\n",
    "print('y test: ' + str(y_test.shape))\n",
    "\n",
    "x_train_nn = x_train.reshape((1,x_train.shape[0],x_train.shape[1]))\n",
    "x_test_nn = x_test.reshape((1,x_test.shape[0],x_test.shape[1]))\n",
    "y_train_nn = y_train.reshape((1,y_train.shape[0],y_train.shape[1]))\n",
    "y_test_nn = y_test.reshape((1,y_test.shape[0],y_test.shape[1]))\n",
    "\n",
    "print('y train: ' + str(y_train.shape))\n",
    "print('y test: ' + str(y_test.shape))\n",
    "print('x train: ' + str(x_train.shape))\n",
    "print('y test: ' + str(y_test.shape))\n"
   ]
  },
  {
   "cell_type": "code",
   "execution_count": 74,
   "metadata": {
    "tags": []
   },
   "outputs": [],
   "source": [
    "\n",
    "# model_lstm = keras.Sequential(name='LSTM_w/PCA')\n",
    "# model_lstm.add(LSTM(64, return_sequences = True, input_shape = (2640,183)))\n",
    "# model_lstm.add(Dropout(0.2))\n",
    "\n",
    "# model_lstm.add(LSTM(64, return_sequences = True))\n",
    "# model_lstm.add(Dropout(0.2))\n",
    "\n",
    "# model_lstm.add(LSTM(64, return_sequences = True))\n",
    "# model_lstm.add(Dropout(0.2))\n",
    "\n",
    "# model_lstm.add(Dense(2, activation='sigmoid'))\n",
    "\n",
    "# opt = SGD(lr = .0045)\n",
    "# model_lstm.compile(optimizer=opt, loss='binary_crossentropy', metrics=['accuracy'])\n",
    "# model_lstm.build()\n",
    "# model_lstm.summary()\n",
    "\n",
    "# fit_all = model_lstm.fit(x = x_train,\n",
    "#         y = y_train, \n",
    "#         epochs = 100,\n",
    "#         batch_size = 64,\n",
    "#         steps_per_epoch = x_train.shape[1]//64,\n",
    "#         validation_split = .2,\n",
    "#         verbose=True)\n",
    "\n",
    "# metrics = model_lstm.evaluate(x_test,y_test, verbose=0)\n",
    "# print('Test Accuracy: {} %'.format(metrics[1]*100))"
   ]
  },
  {
   "cell_type": "code",
   "execution_count": 75,
   "metadata": {},
   "outputs": [
    {
     "output_type": "execute_result",
     "data": {
      "text/plain": "2"
     },
     "metadata": {},
     "execution_count": 75
    }
   ],
   "source": [
    "x_train.shape[1]//64"
   ]
  },
  {
   "cell_type": "code",
   "execution_count": 76,
   "metadata": {
    "tags": []
   },
   "outputs": [
    {
     "output_type": "stream",
     "name": "stdout",
     "text": "0.8757575757575757\n11\n"
    }
   ],
   "source": [
    "accy = []\n",
    "\n",
    "for i in range(1,15):\n",
    "    knn = neighbors.KNeighborsClassifier(n_neighbors=i)\n",
    "    knn.fit(x_train, y_train)\n",
    "    accy.append(knn.score(x_test,y_test))\n",
    "     \n",
    "k = accy.index(max(accy))+1\n",
    "\n",
    "knn = neighbors.KNeighborsClassifier(n_neighbors=k)\n",
    "knn.fit(x_train, y_train)\n",
    "#test = knn.predict(x_test)\n",
    "print(knn.score(x_test, y_test))\n",
    "print(k)"
   ]
  },
  {
   "cell_type": "code",
   "execution_count": 77,
   "metadata": {},
   "outputs": [],
   "source": [
    "integer_encoded.shape\n",
    "integer_encoded = integer_encoded.reshape(3300)\n",
    "integer_encoded.shape\n",
    "x_train, x_test, y_train, y_test = train_test_split(x_scaled, integer_encoded, test_size=0.2)"
   ]
  },
  {
   "cell_type": "code",
   "execution_count": 78,
   "metadata": {},
   "outputs": [
    {
     "output_type": "execute_result",
     "data": {
      "text/plain": "0.8787878787878788"
     },
     "metadata": {},
     "execution_count": 78
    }
   ],
   "source": [
    "svm = SVC(gamma = 'auto', kernel='poly', degree=3)\n",
    "svm.fit(x_train, y_train)\n",
    "test = svm.predict(x_test)\n",
    "svm.score(x_test, y_test)"
   ]
  },
  {
   "cell_type": "code",
   "execution_count": 79,
   "metadata": {},
   "outputs": [
    {
     "output_type": "execute_result",
     "data": {
      "text/plain": "0.8787878787878788"
     },
     "metadata": {},
     "execution_count": 79
    }
   ],
   "source": [
    "rf = RandomForestClassifier(criterion='entropy',min_samples_split=5)\n",
    "rf.fit(x_train, y_train)\n",
    "\n",
    "test = rf.predict(x_test)\n",
    "rf.score(x_test, y_test)"
   ]
  },
  {
   "cell_type": "code",
   "execution_count": 80,
   "metadata": {},
   "outputs": [
    {
     "output_type": "execute_result",
     "data": {
      "text/plain": "0.6181818181818182"
     },
     "metadata": {},
     "execution_count": 80
    }
   ],
   "source": [
    "gnb = GaussianNB()\n",
    "gnb.fit(x_train,y_train)\n",
    "gnb.score(x_test,y_test)"
   ]
  },
  {
   "cell_type": "code",
   "execution_count": 81,
   "metadata": {},
   "outputs": [
    {
     "output_type": "execute_result",
     "data": {
      "text/plain": "0.8287878787878787"
     },
     "metadata": {},
     "execution_count": 81
    }
   ],
   "source": [
    "\n",
    "\n",
    "gbc = GradientBoostingClassifier(n_estimators=100, learning_rate=1.0, max_depth=1, random_state=0)\n",
    "gbc.fit(x_train,y_train)\n",
    "gbc.score(x_test,y_test)"
   ]
  }
 ]
}