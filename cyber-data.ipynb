{
 "cells": [
  {
   "cell_type": "code",
   "execution_count": 1,
   "metadata": {},
   "outputs": [],
   "source": [
    "# These are the imports that we will need to get started. This list will grow over time as we want to do other things besides just explore...\n",
    "import pandas as pd\n",
    "from dfply import *"
   ]
  },
  {
   "cell_type": "code",
   "execution_count": 2,
   "metadata": {},
   "outputs": [],
   "source": [
    "# Read in the dataset. This filepath is mine. This is the full dataset. \n",
    "train = pd.read_csv(\"E:\\\\ProjectData\\\\ERAU-REU\\\\Project-Cyber-Security\\\\NSL-KDD\\\\KDDTrain+.txt\",header=None)\n",
    "test = pd.read_csv(\"E:\\\\ProjectData\\\\ERAU-REU\\\\Project-Cyber-Security\\\\NSL-KDD\\\\KDDTest+.txt\",header=None)\n",
    "train.columns = ['duration', 'protocol_type', 'service', 'flag', 'src_bytes',\n",
    "'dst_bytes', 'land', 'wrong_fragment', 'urgent', 'hot',\n",
    "'num_failed_logins', 'logged_in', 'num_compromised', 'root_shell',\n",
    "'su_attempted', 'num_root', 'num_file_creations', 'num_shells',\n",
    "'num_access_files', 'num_outbound_cmds', 'is_host_login',\n",
    "'is_guest_login', 'count', 'srv_count', 'serror_rate',\n",
    "'srv_serror_rate', 'rerror_rate', 'srv_rerror_rate', 'same_srv_rate',\n",
    "'diff_srv_rate', 'srv_diff_host_rate', 'dst_host_count',\n",
    "'dst_host_srv_count', 'dst_host_same_srv_rate','dst_host_diff_srv_rate', 'dst_host_same_src_port_rate',\n",
    "'dst_host_srv_diff_host_rate', 'dst_host_serror_rate',\n",
    "'dst_host_srv_serror_rate', 'dst_host_rerror_rate',\n",
    "'dst_host_srv_rerror_rate', 'classification', 'difficulty_level']\n",
    "\n",
    "test.columns = ['duration', 'protocol_type', 'service', 'flag', 'src_bytes',\n",
    "'dst_bytes', 'land', 'wrong_fragment', 'urgent', 'hot',\n",
    "'num_failed_logins', 'logged_in', 'num_compromised', 'root_shell',\n",
    "'su_attempted', 'num_root', 'num_file_creations', 'num_shells',\n",
    "'num_access_files', 'num_outbound_cmds', 'is_host_login',\n",
    "'is_guest_login', 'count', 'srv_count', 'serror_rate',\n",
    "'srv_serror_rate', 'rerror_rate', 'srv_rerror_rate', 'same_srv_rate',\n",
    "'diff_srv_rate', 'srv_diff_host_rate', 'dst_host_count',\n",
    "'dst_host_srv_count', 'dst_host_same_srv_rate','dst_host_diff_srv_rate', 'dst_host_same_src_port_rate',\n",
    "'dst_host_srv_diff_host_rate', 'dst_host_serror_rate',\n",
    "'dst_host_srv_serror_rate', 'dst_host_rerror_rate',\n",
    "'dst_host_srv_rerror_rate', 'classification', 'difficulty_level']"
   ]
  },
  {
   "cell_type": "code",
   "execution_count": 3,
   "metadata": {},
   "outputs": [],
   "source": [
    "train >>= mutate(anomaly = case_when([train.classification == 'normal','normal'],\n",
    "[train.classification != 'normal','anomaly']))\n",
    "\n",
    "test >>= mutate(anomaly = case_when([test.classification == 'normal','normal'],\n",
    "[test.classification != 'normal','anomaly']))"
   ]
  },
  {
   "cell_type": "code",
   "execution_count": 4,
   "metadata": {
    "tags": []
   },
   "outputs": [
    {
     "output_type": "stream",
     "name": "stdout",
     "text": "<class 'pandas.core.frame.DataFrame'>\nRangeIndex: 125973 entries, 0 to 125972\nData columns (total 44 columns):\n #   Column                       Non-Null Count   Dtype  \n---  ------                       --------------   -----  \n 0   duration                     125973 non-null  int64  \n 1   protocol_type                125973 non-null  object \n 2   service                      125973 non-null  object \n 3   flag                         125973 non-null  object \n 4   src_bytes                    125973 non-null  int64  \n 5   dst_bytes                    125973 non-null  int64  \n 6   land                         125973 non-null  int64  \n 7   wrong_fragment               125973 non-null  int64  \n 8   urgent                       125973 non-null  int64  \n 9   hot                          125973 non-null  int64  \n 10  num_failed_logins            125973 non-null  int64  \n 11  logged_in                    125973 non-null  int64  \n 12  num_compromised              125973 non-null  int64  \n 13  root_shell                   125973 non-null  int64  \n 14  su_attempted                 125973 non-null  int64  \n 15  num_root                     125973 non-null  int64  \n 16  num_file_creations           125973 non-null  int64  \n 17  num_shells                   125973 non-null  int64  \n 18  num_access_files             125973 non-null  int64  \n 19  num_outbound_cmds            125973 non-null  int64  \n 20  is_host_login                125973 non-null  int64  \n 21  is_guest_login               125973 non-null  int64  \n 22  count                        125973 non-null  int64  \n 23  srv_count                    125973 non-null  int64  \n 24  serror_rate                  125973 non-null  float64\n 25  srv_serror_rate              125973 non-null  float64\n 26  rerror_rate                  125973 non-null  float64\n 27  srv_rerror_rate              125973 non-null  float64\n 28  same_srv_rate                125973 non-null  float64\n 29  diff_srv_rate                125973 non-null  float64\n 30  srv_diff_host_rate           125973 non-null  float64\n 31  dst_host_count               125973 non-null  int64  \n 32  dst_host_srv_count           125973 non-null  int64  \n 33  dst_host_same_srv_rate       125973 non-null  float64\n 34  dst_host_diff_srv_rate       125973 non-null  float64\n 35  dst_host_same_src_port_rate  125973 non-null  float64\n 36  dst_host_srv_diff_host_rate  125973 non-null  float64\n 37  dst_host_serror_rate         125973 non-null  float64\n 38  dst_host_srv_serror_rate     125973 non-null  float64\n 39  dst_host_rerror_rate         125973 non-null  float64\n 40  dst_host_srv_rerror_rate     125973 non-null  float64\n 41  classification               125973 non-null  object \n 42  difficulty_level             125973 non-null  int64  \n 43  anomaly                      125973 non-null  object \ndtypes: float64(15), int64(24), object(5)\nmemory usage: 42.3+ MB\nNone\n<class 'pandas.core.frame.DataFrame'>\nRangeIndex: 22544 entries, 0 to 22543\nData columns (total 44 columns):\n #   Column                       Non-Null Count  Dtype  \n---  ------                       --------------  -----  \n 0   duration                     22544 non-null  int64  \n 1   protocol_type                22544 non-null  object \n 2   service                      22544 non-null  object \n 3   flag                         22544 non-null  object \n 4   src_bytes                    22544 non-null  int64  \n 5   dst_bytes                    22544 non-null  int64  \n 6   land                         22544 non-null  int64  \n 7   wrong_fragment               22544 non-null  int64  \n 8   urgent                       22544 non-null  int64  \n 9   hot                          22544 non-null  int64  \n 10  num_failed_logins            22544 non-null  int64  \n 11  logged_in                    22544 non-null  int64  \n 12  num_compromised              22544 non-null  int64  \n 13  root_shell                   22544 non-null  int64  \n 14  su_attempted                 22544 non-null  int64  \n 15  num_root                     22544 non-null  int64  \n 16  num_file_creations           22544 non-null  int64  \n 17  num_shells                   22544 non-null  int64  \n 18  num_access_files             22544 non-null  int64  \n 19  num_outbound_cmds            22544 non-null  int64  \n 20  is_host_login                22544 non-null  int64  \n 21  is_guest_login               22544 non-null  int64  \n 22  count                        22544 non-null  int64  \n 23  srv_count                    22544 non-null  int64  \n 24  serror_rate                  22544 non-null  float64\n 25  srv_serror_rate              22544 non-null  float64\n 26  rerror_rate                  22544 non-null  float64\n 27  srv_rerror_rate              22544 non-null  float64\n 28  same_srv_rate                22544 non-null  float64\n 29  diff_srv_rate                22544 non-null  float64\n 30  srv_diff_host_rate           22544 non-null  float64\n 31  dst_host_count               22544 non-null  int64  \n 32  dst_host_srv_count           22544 non-null  int64  \n 33  dst_host_same_srv_rate       22544 non-null  float64\n 34  dst_host_diff_srv_rate       22544 non-null  float64\n 35  dst_host_same_src_port_rate  22544 non-null  float64\n 36  dst_host_srv_diff_host_rate  22544 non-null  float64\n 37  dst_host_serror_rate         22544 non-null  float64\n 38  dst_host_srv_serror_rate     22544 non-null  float64\n 39  dst_host_rerror_rate         22544 non-null  float64\n 40  dst_host_srv_rerror_rate     22544 non-null  float64\n 41  classification               22544 non-null  object \n 42  difficulty_level             22544 non-null  int64  \n 43  anomaly                      22544 non-null  object \ndtypes: float64(15), int64(24), object(5)\nmemory usage: 7.6+ MB\nNone\n"
    }
   ],
   "source": [
    "# This is general information about the structure of the dataset.\n",
    "print(train.info())\n",
    "print(test.info())"
   ]
  },
  {
   "cell_type": "code",
   "execution_count": 5,
   "metadata": {},
   "outputs": [],
   "source": [
    "# Here, we are literally just viewing the first couple lines of the dataset to help us see how it looks in tabular form. \n",
    "train.protocol_type = train.protocol_type.astype('category')\n",
    "train.service = train.protocol_type.astype('category')\n",
    "train.flag = train.protocol_type.astype('category')\n",
    "train.classification = train.protocol_type.astype('category')\n",
    "train.anomaly = train.anomaly.astype('category')\n",
    "\n",
    "test.protocol_type = test.protocol_type.astype('category')\n",
    "test.service = test.protocol_type.astype('category')\n",
    "test.flag = test.protocol_type.astype('category')\n",
    "test.classification = test.protocol_type.astype('category')\n",
    "test.anomaly = test.anomaly.astype('category')"
   ]
  },
  {
   "cell_type": "code",
   "execution_count": 6,
   "metadata": {
    "tags": []
   },
   "outputs": [
    {
     "output_type": "stream",
     "name": "stdout",
     "text": "<class 'pandas.core.frame.DataFrame'>\nRangeIndex: 125973 entries, 0 to 125972\nData columns (total 44 columns):\n #   Column                       Non-Null Count   Dtype   \n---  ------                       --------------   -----   \n 0   duration                     125973 non-null  int64   \n 1   protocol_type                125973 non-null  category\n 2   service                      125973 non-null  category\n 3   flag                         125973 non-null  category\n 4   src_bytes                    125973 non-null  int64   \n 5   dst_bytes                    125973 non-null  int64   \n 6   land                         125973 non-null  int64   \n 7   wrong_fragment               125973 non-null  int64   \n 8   urgent                       125973 non-null  int64   \n 9   hot                          125973 non-null  int64   \n 10  num_failed_logins            125973 non-null  int64   \n 11  logged_in                    125973 non-null  int64   \n 12  num_compromised              125973 non-null  int64   \n 13  root_shell                   125973 non-null  int64   \n 14  su_attempted                 125973 non-null  int64   \n 15  num_root                     125973 non-null  int64   \n 16  num_file_creations           125973 non-null  int64   \n 17  num_shells                   125973 non-null  int64   \n 18  num_access_files             125973 non-null  int64   \n 19  num_outbound_cmds            125973 non-null  int64   \n 20  is_host_login                125973 non-null  int64   \n 21  is_guest_login               125973 non-null  int64   \n 22  count                        125973 non-null  int64   \n 23  srv_count                    125973 non-null  int64   \n 24  serror_rate                  125973 non-null  float64 \n 25  srv_serror_rate              125973 non-null  float64 \n 26  rerror_rate                  125973 non-null  float64 \n 27  srv_rerror_rate              125973 non-null  float64 \n 28  same_srv_rate                125973 non-null  float64 \n 29  diff_srv_rate                125973 non-null  float64 \n 30  srv_diff_host_rate           125973 non-null  float64 \n 31  dst_host_count               125973 non-null  int64   \n 32  dst_host_srv_count           125973 non-null  int64   \n 33  dst_host_same_srv_rate       125973 non-null  float64 \n 34  dst_host_diff_srv_rate       125973 non-null  float64 \n 35  dst_host_same_src_port_rate  125973 non-null  float64 \n 36  dst_host_srv_diff_host_rate  125973 non-null  float64 \n 37  dst_host_serror_rate         125973 non-null  float64 \n 38  dst_host_srv_serror_rate     125973 non-null  float64 \n 39  dst_host_rerror_rate         125973 non-null  float64 \n 40  dst_host_srv_rerror_rate     125973 non-null  float64 \n 41  classification               125973 non-null  category\n 42  difficulty_level             125973 non-null  int64   \n 43  anomaly                      125973 non-null  category\ndtypes: category(5), float64(15), int64(24)\nmemory usage: 38.1 MB\nNone\n<class 'pandas.core.frame.DataFrame'>\nRangeIndex: 22544 entries, 0 to 22543\nData columns (total 44 columns):\n #   Column                       Non-Null Count  Dtype   \n---  ------                       --------------  -----   \n 0   duration                     22544 non-null  int64   \n 1   protocol_type                22544 non-null  category\n 2   service                      22544 non-null  category\n 3   flag                         22544 non-null  category\n 4   src_bytes                    22544 non-null  int64   \n 5   dst_bytes                    22544 non-null  int64   \n 6   land                         22544 non-null  int64   \n 7   wrong_fragment               22544 non-null  int64   \n 8   urgent                       22544 non-null  int64   \n 9   hot                          22544 non-null  int64   \n 10  num_failed_logins            22544 non-null  int64   \n 11  logged_in                    22544 non-null  int64   \n 12  num_compromised              22544 non-null  int64   \n 13  root_shell                   22544 non-null  int64   \n 14  su_attempted                 22544 non-null  int64   \n 15  num_root                     22544 non-null  int64   \n 16  num_file_creations           22544 non-null  int64   \n 17  num_shells                   22544 non-null  int64   \n 18  num_access_files             22544 non-null  int64   \n 19  num_outbound_cmds            22544 non-null  int64   \n 20  is_host_login                22544 non-null  int64   \n 21  is_guest_login               22544 non-null  int64   \n 22  count                        22544 non-null  int64   \n 23  srv_count                    22544 non-null  int64   \n 24  serror_rate                  22544 non-null  float64 \n 25  srv_serror_rate              22544 non-null  float64 \n 26  rerror_rate                  22544 non-null  float64 \n 27  srv_rerror_rate              22544 non-null  float64 \n 28  same_srv_rate                22544 non-null  float64 \n 29  diff_srv_rate                22544 non-null  float64 \n 30  srv_diff_host_rate           22544 non-null  float64 \n 31  dst_host_count               22544 non-null  int64   \n 32  dst_host_srv_count           22544 non-null  int64   \n 33  dst_host_same_srv_rate       22544 non-null  float64 \n 34  dst_host_diff_srv_rate       22544 non-null  float64 \n 35  dst_host_same_src_port_rate  22544 non-null  float64 \n 36  dst_host_srv_diff_host_rate  22544 non-null  float64 \n 37  dst_host_serror_rate         22544 non-null  float64 \n 38  dst_host_srv_serror_rate     22544 non-null  float64 \n 39  dst_host_rerror_rate         22544 non-null  float64 \n 40  dst_host_srv_rerror_rate     22544 non-null  float64 \n 41  classification               22544 non-null  category\n 42  difficulty_level             22544 non-null  int64   \n 43  anomaly                      22544 non-null  category\ndtypes: category(5), float64(15), int64(24)\nmemory usage: 6.8 MB\nNone\n"
    }
   ],
   "source": [
    "print(train.info())\n",
    "print(test.info())"
   ]
  },
  {
   "cell_type": "code",
   "execution_count": null,
   "metadata": {},
   "outputs": [],
   "source": []
  }
 ],
 "metadata": {
  "language_info": {
   "codemirror_mode": {
    "name": "ipython",
    "version": 3
   },
   "file_extension": ".py",
   "mimetype": "text/x-python",
   "name": "python",
   "nbconvert_exporter": "python",
   "pygments_lexer": "ipython3",
   "version": "3.7.7-final"
  },
  "orig_nbformat": 2,
  "kernelspec": {
   "name": "python_defaultSpec_1595116900569",
   "display_name": "Python 3.7.7 64-bit ('tfgpu': conda)"
  }
 },
 "nbformat": 4,
 "nbformat_minor": 2
}