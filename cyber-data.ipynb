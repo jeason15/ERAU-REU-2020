{
 "cells": [
  {
   "cell_type": "code",
   "execution_count": 1,
   "metadata": {},
   "outputs": [],
   "source": [
    "# These are the imports that we will need to get started. This list will grow over time as we want to do other things besides just explore...\n",
    "import pandas as pd\n",
    "from dfply import *\n",
    "from sklearn.ensemble import RandomForestClassifier\n"
   ]
  },
  {
   "cell_type": "code",
   "execution_count": 2,
   "metadata": {},
   "outputs": [],
   "source": [
    "# Read in the dataset. This filepath is mine. This is the full dataset. \n",
    "train = pd.read_csv(\"E:\\\\ProjectData\\\\ERAU-REU\\\\Project-Cyber-Security\\\\NSL-KDD\\\\KDDTrain+.txt\",header=None)\n",
    "test = pd.read_csv(\"E:\\\\ProjectData\\\\ERAU-REU\\\\Project-Cyber-Security\\\\NSL-KDD\\\\KDDTest+.txt\",header=None)\n",
    "train.columns = ['duration', 'protocol_type', 'service', 'flag', 'src_bytes',\n",
    "'dst_bytes', 'land', 'wrong_fragment', 'urgent', 'hot',\n",
    "'num_failed_logins', 'logged_in', 'num_compromised', 'root_shell',\n",
    "'su_attempted', 'num_root', 'num_file_creations', 'num_shells',\n",
    "'num_access_files', 'num_outbound_cmds', 'is_host_login',\n",
    "'is_guest_login', 'count', 'srv_count', 'serror_rate',\n",
    "'srv_serror_rate', 'rerror_rate', 'srv_rerror_rate', 'same_srv_rate',\n",
    "'diff_srv_rate', 'srv_diff_host_rate', 'dst_host_count',\n",
    "'dst_host_srv_count', 'dst_host_same_srv_rate','dst_host_diff_srv_rate', 'dst_host_same_src_port_rate',\n",
    "'dst_host_srv_diff_host_rate', 'dst_host_serror_rate',\n",
    "'dst_host_srv_serror_rate', 'dst_host_rerror_rate',\n",
    "'dst_host_srv_rerror_rate', 'classification', 'difficulty_level']\n",
    "\n",
    "test.columns = ['duration', 'protocol_type', 'service', 'flag', 'src_bytes',\n",
    "'dst_bytes', 'land', 'wrong_fragment', 'urgent', 'hot',\n",
    "'num_failed_logins', 'logged_in', 'num_compromised', 'root_shell',\n",
    "'su_attempted', 'num_root', 'num_file_creations', 'num_shells',\n",
    "'num_access_files', 'num_outbound_cmds', 'is_host_login',\n",
    "'is_guest_login', 'count', 'srv_count', 'serror_rate',\n",
    "'srv_serror_rate', 'rerror_rate', 'srv_rerror_rate', 'same_srv_rate',\n",
    "'diff_srv_rate', 'srv_diff_host_rate', 'dst_host_count',\n",
    "'dst_host_srv_count', 'dst_host_same_srv_rate','dst_host_diff_srv_rate', 'dst_host_same_src_port_rate',\n",
    "'dst_host_srv_diff_host_rate', 'dst_host_serror_rate',\n",
    "'dst_host_srv_serror_rate', 'dst_host_rerror_rate',\n",
    "'dst_host_srv_rerror_rate', 'classification', 'difficulty_level']"
   ]
  },
  {
   "cell_type": "code",
   "execution_count": 3,
   "metadata": {},
   "outputs": [],
   "source": [
    "train >>= mutate(anomaly = case_when([train.classification == 'normal','normal'],\n",
    "[train.classification != 'normal','anomaly']))\n",
    "\n",
    "test >>= mutate(anomaly = case_when([test.classification == 'normal','normal'],\n",
    "[test.classification != 'normal','anomaly']))"
   ]
  },
  {
   "cell_type": "code",
   "execution_count": 4,
   "metadata": {
    "tags": []
   },
   "outputs": [
    {
     "output_type": "stream",
     "name": "stdout",
     "text": "<class 'pandas.core.frame.DataFrame'>\nRangeIndex: 125973 entries, 0 to 125972\nData columns (total 44 columns):\n #   Column                       Non-Null Count   Dtype  \n---  ------                       --------------   -----  \n 0   duration                     125973 non-null  int64  \n 1   protocol_type                125973 non-null  object \n 2   service                      125973 non-null  object \n 3   flag                         125973 non-null  object \n 4   src_bytes                    125973 non-null  int64  \n 5   dst_bytes                    125973 non-null  int64  \n 6   land                         125973 non-null  int64  \n 7   wrong_fragment               125973 non-null  int64  \n 8   urgent                       125973 non-null  int64  \n 9   hot                          125973 non-null  int64  \n 10  num_failed_logins            125973 non-null  int64  \n 11  logged_in                    125973 non-null  int64  \n 12  num_compromised              125973 non-null  int64  \n 13  root_shell                   125973 non-null  int64  \n 14  su_attempted                 125973 non-null  int64  \n 15  num_root                     125973 non-null  int64  \n 16  num_file_creations           125973 non-null  int64  \n 17  num_shells                   125973 non-null  int64  \n 18  num_access_files             125973 non-null  int64  \n 19  num_outbound_cmds            125973 non-null  int64  \n 20  is_host_login                125973 non-null  int64  \n 21  is_guest_login               125973 non-null  int64  \n 22  count                        125973 non-null  int64  \n 23  srv_count                    125973 non-null  int64  \n 24  serror_rate                  125973 non-null  float64\n 25  srv_serror_rate              125973 non-null  float64\n 26  rerror_rate                  125973 non-null  float64\n 27  srv_rerror_rate              125973 non-null  float64\n 28  same_srv_rate                125973 non-null  float64\n 29  diff_srv_rate                125973 non-null  float64\n 30  srv_diff_host_rate           125973 non-null  float64\n 31  dst_host_count               125973 non-null  int64  \n 32  dst_host_srv_count           125973 non-null  int64  \n 33  dst_host_same_srv_rate       125973 non-null  float64\n 34  dst_host_diff_srv_rate       125973 non-null  float64\n 35  dst_host_same_src_port_rate  125973 non-null  float64\n 36  dst_host_srv_diff_host_rate  125973 non-null  float64\n 37  dst_host_serror_rate         125973 non-null  float64\n 38  dst_host_srv_serror_rate     125973 non-null  float64\n 39  dst_host_rerror_rate         125973 non-null  float64\n 40  dst_host_srv_rerror_rate     125973 non-null  float64\n 41  classification               125973 non-null  object \n 42  difficulty_level             125973 non-null  int64  \n 43  anomaly                      125973 non-null  object \ndtypes: float64(15), int64(24), object(5)\nmemory usage: 42.3+ MB\nNone\n<class 'pandas.core.frame.DataFrame'>\nRangeIndex: 22544 entries, 0 to 22543\nData columns (total 44 columns):\n #   Column                       Non-Null Count  Dtype  \n---  ------                       --------------  -----  \n 0   duration                     22544 non-null  int64  \n 1   protocol_type                22544 non-null  object \n 2   service                      22544 non-null  object \n 3   flag                         22544 non-null  object \n 4   src_bytes                    22544 non-null  int64  \n 5   dst_bytes                    22544 non-null  int64  \n 6   land                         22544 non-null  int64  \n 7   wrong_fragment               22544 non-null  int64  \n 8   urgent                       22544 non-null  int64  \n 9   hot                          22544 non-null  int64  \n 10  num_failed_logins            22544 non-null  int64  \n 11  logged_in                    22544 non-null  int64  \n 12  num_compromised              22544 non-null  int64  \n 13  root_shell                   22544 non-null  int64  \n 14  su_attempted                 22544 non-null  int64  \n 15  num_root                     22544 non-null  int64  \n 16  num_file_creations           22544 non-null  int64  \n 17  num_shells                   22544 non-null  int64  \n 18  num_access_files             22544 non-null  int64  \n 19  num_outbound_cmds            22544 non-null  int64  \n 20  is_host_login                22544 non-null  int64  \n 21  is_guest_login               22544 non-null  int64  \n 22  count                        22544 non-null  int64  \n 23  srv_count                    22544 non-null  int64  \n 24  serror_rate                  22544 non-null  float64\n 25  srv_serror_rate              22544 non-null  float64\n 26  rerror_rate                  22544 non-null  float64\n 27  srv_rerror_rate              22544 non-null  float64\n 28  same_srv_rate                22544 non-null  float64\n 29  diff_srv_rate                22544 non-null  float64\n 30  srv_diff_host_rate           22544 non-null  float64\n 31  dst_host_count               22544 non-null  int64  \n 32  dst_host_srv_count           22544 non-null  int64  \n 33  dst_host_same_srv_rate       22544 non-null  float64\n 34  dst_host_diff_srv_rate       22544 non-null  float64\n 35  dst_host_same_src_port_rate  22544 non-null  float64\n 36  dst_host_srv_diff_host_rate  22544 non-null  float64\n 37  dst_host_serror_rate         22544 non-null  float64\n 38  dst_host_srv_serror_rate     22544 non-null  float64\n 39  dst_host_rerror_rate         22544 non-null  float64\n 40  dst_host_srv_rerror_rate     22544 non-null  float64\n 41  classification               22544 non-null  object \n 42  difficulty_level             22544 non-null  int64  \n 43  anomaly                      22544 non-null  object \ndtypes: float64(15), int64(24), object(5)\nmemory usage: 7.6+ MB\nNone\n"
    }
   ],
   "source": [
    "# This is general information about the structure of the dataset.\n",
    "print(train.info())\n",
    "print(test.info())"
   ]
  },
  {
   "cell_type": "code",
   "execution_count": 5,
   "metadata": {},
   "outputs": [],
   "source": [
    "# Here, we are literally just viewing the first couple lines of the dataset to help us see how it looks in tabular form. \n",
    "train.protocol_type = pd.factorize(train['protocol_type'])[0]\n",
    "train.service = pd.factorize(train['service'])[0]\n",
    "train.flag = pd.factorize(train['flag'])[0]\n",
    "train.classification = pd.factorize(train['classification'])[0]\n",
    "\n",
    "test.protocol_type = pd.factorize(test['protocol_type'])[0]\n",
    "test.service = pd.factorize(test['service'])[0]\n",
    "test.flag = pd.factorize(test['flag'])[0]\n",
    "test.classification = pd.factorize(test['classification'])[0]"
   ]
  },
  {
   "cell_type": "code",
   "execution_count": 6,
   "metadata": {
    "tags": []
   },
   "outputs": [
    {
     "output_type": "stream",
     "name": "stdout",
     "text": "<class 'pandas.core.frame.DataFrame'>\nRangeIndex: 125973 entries, 0 to 125972\nData columns (total 44 columns):\n #   Column                       Non-Null Count   Dtype  \n---  ------                       --------------   -----  \n 0   duration                     125973 non-null  int64  \n 1   protocol_type                125973 non-null  int64  \n 2   service                      125973 non-null  int64  \n 3   flag                         125973 non-null  int64  \n 4   src_bytes                    125973 non-null  int64  \n 5   dst_bytes                    125973 non-null  int64  \n 6   land                         125973 non-null  int64  \n 7   wrong_fragment               125973 non-null  int64  \n 8   urgent                       125973 non-null  int64  \n 9   hot                          125973 non-null  int64  \n 10  num_failed_logins            125973 non-null  int64  \n 11  logged_in                    125973 non-null  int64  \n 12  num_compromised              125973 non-null  int64  \n 13  root_shell                   125973 non-null  int64  \n 14  su_attempted                 125973 non-null  int64  \n 15  num_root                     125973 non-null  int64  \n 16  num_file_creations           125973 non-null  int64  \n 17  num_shells                   125973 non-null  int64  \n 18  num_access_files             125973 non-null  int64  \n 19  num_outbound_cmds            125973 non-null  int64  \n 20  is_host_login                125973 non-null  int64  \n 21  is_guest_login               125973 non-null  int64  \n 22  count                        125973 non-null  int64  \n 23  srv_count                    125973 non-null  int64  \n 24  serror_rate                  125973 non-null  float64\n 25  srv_serror_rate              125973 non-null  float64\n 26  rerror_rate                  125973 non-null  float64\n 27  srv_rerror_rate              125973 non-null  float64\n 28  same_srv_rate                125973 non-null  float64\n 29  diff_srv_rate                125973 non-null  float64\n 30  srv_diff_host_rate           125973 non-null  float64\n 31  dst_host_count               125973 non-null  int64  \n 32  dst_host_srv_count           125973 non-null  int64  \n 33  dst_host_same_srv_rate       125973 non-null  float64\n 34  dst_host_diff_srv_rate       125973 non-null  float64\n 35  dst_host_same_src_port_rate  125973 non-null  float64\n 36  dst_host_srv_diff_host_rate  125973 non-null  float64\n 37  dst_host_serror_rate         125973 non-null  float64\n 38  dst_host_srv_serror_rate     125973 non-null  float64\n 39  dst_host_rerror_rate         125973 non-null  float64\n 40  dst_host_srv_rerror_rate     125973 non-null  float64\n 41  classification               125973 non-null  int64  \n 42  difficulty_level             125973 non-null  int64  \n 43  anomaly                      125973 non-null  object \ndtypes: float64(15), int64(28), object(1)\nmemory usage: 42.3+ MB\nNone\n<class 'pandas.core.frame.DataFrame'>\nRangeIndex: 22544 entries, 0 to 22543\nData columns (total 44 columns):\n #   Column                       Non-Null Count  Dtype  \n---  ------                       --------------  -----  \n 0   duration                     22544 non-null  int64  \n 1   protocol_type                22544 non-null  int64  \n 2   service                      22544 non-null  int64  \n 3   flag                         22544 non-null  int64  \n 4   src_bytes                    22544 non-null  int64  \n 5   dst_bytes                    22544 non-null  int64  \n 6   land                         22544 non-null  int64  \n 7   wrong_fragment               22544 non-null  int64  \n 8   urgent                       22544 non-null  int64  \n 9   hot                          22544 non-null  int64  \n 10  num_failed_logins            22544 non-null  int64  \n 11  logged_in                    22544 non-null  int64  \n 12  num_compromised              22544 non-null  int64  \n 13  root_shell                   22544 non-null  int64  \n 14  su_attempted                 22544 non-null  int64  \n 15  num_root                     22544 non-null  int64  \n 16  num_file_creations           22544 non-null  int64  \n 17  num_shells                   22544 non-null  int64  \n 18  num_access_files             22544 non-null  int64  \n 19  num_outbound_cmds            22544 non-null  int64  \n 20  is_host_login                22544 non-null  int64  \n 21  is_guest_login               22544 non-null  int64  \n 22  count                        22544 non-null  int64  \n 23  srv_count                    22544 non-null  int64  \n 24  serror_rate                  22544 non-null  float64\n 25  srv_serror_rate              22544 non-null  float64\n 26  rerror_rate                  22544 non-null  float64\n 27  srv_rerror_rate              22544 non-null  float64\n 28  same_srv_rate                22544 non-null  float64\n 29  diff_srv_rate                22544 non-null  float64\n 30  srv_diff_host_rate           22544 non-null  float64\n 31  dst_host_count               22544 non-null  int64  \n 32  dst_host_srv_count           22544 non-null  int64  \n 33  dst_host_same_srv_rate       22544 non-null  float64\n 34  dst_host_diff_srv_rate       22544 non-null  float64\n 35  dst_host_same_src_port_rate  22544 non-null  float64\n 36  dst_host_srv_diff_host_rate  22544 non-null  float64\n 37  dst_host_serror_rate         22544 non-null  float64\n 38  dst_host_srv_serror_rate     22544 non-null  float64\n 39  dst_host_rerror_rate         22544 non-null  float64\n 40  dst_host_srv_rerror_rate     22544 non-null  float64\n 41  classification               22544 non-null  int64  \n 42  difficulty_level             22544 non-null  int64  \n 43  anomaly                      22544 non-null  object \ndtypes: float64(15), int64(28), object(1)\nmemory usage: 7.6+ MB\nNone\n"
    }
   ],
   "source": [
    "print(train.info())\n",
    "print(test.info())"
   ]
  },
  {
   "cell_type": "code",
   "execution_count": 7,
   "metadata": {},
   "outputs": [],
   "source": [
    "y_train = pd.factorize(train['anomaly'])[0]\n",
    "x_train = train.drop(['anomaly'],axis=1)\n",
    "\n",
    "y_test = pd.factorize(test['anomaly'])[0]\n",
    "x_test = test.drop(['anomaly'],axis=1)"
   ]
  },
  {
   "cell_type": "code",
   "execution_count": 8,
   "metadata": {},
   "outputs": [],
   "source": [
    "clf = RandomForestClassifier(bootstrap=True,\n",
    "class_weight=None, \n",
    "criterion='gini',\n",
    "max_depth=None, \n",
    "max_features='auto', \n",
    "max_leaf_nodes=None,\n",
    "min_impurity_split=1e-07, \n",
    "min_samples_leaf=1,\n",
    "min_samples_split=2, \n",
    "min_weight_fraction_leaf=0.0,\n",
    "n_estimators=10, \n",
    "n_jobs=2, \n",
    "oob_score=False, \n",
    "random_state=0,\n",
    "verbose=0, \n",
    "warm_start=False)\n",
    "\n",
    "clf.fit(x_train, y_train)\n",
    "clf.predict(x_test)\n",
    "clf.predict_proba(x_test)[0:10]\n",
    "\n",
    "dtype = pd.CategoricalDtype(['normal', 'anomaly'], ordered=True)\n",
    "test['preds'] = pd.Categorical.from_codes(codes=clf.predict(x_test),dtype=dtype)"
   ]
  },
  {
   "cell_type": "code",
   "execution_count": 9,
   "metadata": {},
   "outputs": [
    {
     "output_type": "execute_result",
     "data": {
      "text/plain": "Predicted  normal  anomaly\nActual                    \nanomaly      4670     8163\nnormal       5365     4346",
      "text/html": "<div>\n<style scoped>\n    .dataframe tbody tr th:only-of-type {\n        vertical-align: middle;\n    }\n\n    .dataframe tbody tr th {\n        vertical-align: top;\n    }\n\n    .dataframe thead th {\n        text-align: right;\n    }\n</style>\n<table border=\"1\" class=\"dataframe\">\n  <thead>\n    <tr style=\"text-align: right;\">\n      <th>Predicted</th>\n      <th>normal</th>\n      <th>anomaly</th>\n    </tr>\n    <tr>\n      <th>Actual</th>\n      <th></th>\n      <th></th>\n    </tr>\n  </thead>\n  <tbody>\n    <tr>\n      <th>anomaly</th>\n      <td>4670</td>\n      <td>8163</td>\n    </tr>\n    <tr>\n      <th>normal</th>\n      <td>5365</td>\n      <td>4346</td>\n    </tr>\n  </tbody>\n</table>\n</div>"
     },
     "metadata": {},
     "execution_count": 9
    }
   ],
   "source": [
    "pd.crosstab(test['anomaly'], test['preds'], rownames=['Actual'], colnames=['Predicted'])"
   ]
  }
 ],
 "metadata": {
  "language_info": {
   "codemirror_mode": {
    "name": "ipython",
    "version": 3
   },
   "file_extension": ".py",
   "mimetype": "text/x-python",
   "name": "python",
   "nbconvert_exporter": "python",
   "pygments_lexer": "ipython3",
   "version": "3.7.7-final"
  },
  "orig_nbformat": 2,
  "kernelspec": {
   "name": "python_defaultSpec_1595121135432",
   "display_name": "Python 3.7.7 64-bit ('tfgpu': conda)"
  }
 },
 "nbformat": 4,
 "nbformat_minor": 2
}